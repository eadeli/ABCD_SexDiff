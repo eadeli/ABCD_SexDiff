{
 "cells": [
  {
   "cell_type": "code",
   "execution_count": 274,
   "metadata": {
    "collapsed": true
   },
   "outputs": [],
   "source": [
    "import numpy as np \n",
    "\n",
    "all_subs     = np.array([])\n",
    "all_pred     = np.array([])\n",
    "all_dx       = np.array([])\n",
    "# import os\n",
    "# print (os.getcwd())\n",
    "\n",
    "for i in range(5):\n",
    "    all_subs = np.concatenate((all_subs, np.genfromtxt('../5cv/subid_' + str(i+1) + '.txt', dtype='str')))\n",
    "    all_dx = np.concatenate([all_dx,  np.loadtxt('../5cv/dx_' + str(i+1) + '.txt')]) \n",
    "    all_pred = np.concatenate([all_pred,  np.loadtxt('../5cv/pred_' + str(i+1) + '.txt')]) "
   ]
  },
  {
   "cell_type": "code",
   "execution_count": 275,
   "metadata": {
    "collapsed": false
   },
   "outputs": [
    {
     "data": {
      "text/plain": [
       "8144"
      ]
     },
     "execution_count": 275,
     "metadata": {},
     "output_type": "execute_result"
    }
   ],
   "source": [
    "all_subs.shape[0]"
   ]
  },
  {
   "cell_type": "code",
   "execution_count": 277,
   "metadata": {
    "collapsed": false
   },
   "outputs": [
    {
     "name": "stderr",
     "output_type": "stream",
     "text": [
      "C:\\Users\\E31195\\AppData\\Local\\Continuum\\anaconda3\\lib\\site-packages\\IPython\\core\\interactiveshell.py:2785: DtypeWarning: Columns (0,1,2,5,9,10,11,12,13,14,15,16,17,18,19,20,21,22,23,24,25,26,27,28,29,30,31,32,33,34,35,36,37,38) have mixed types. Specify dtype option on import or set low_memory=False.\n",
      "  interactivity=interactivity, compiler=compiler, result=result)\n",
      "C:\\Users\\E31195\\AppData\\Local\\Continuum\\anaconda3\\lib\\site-packages\\IPython\\core\\interactiveshell.py:2785: DtypeWarning: Columns (0,1,2,6,8,9,10,11,12,13,14,15,16,17,18,19,20,21,22,23,24,25,26,27,28,29,30,31,32,33,34,35,36,37,38,39,40,41,42,43,44,45,46,47,48,49,50,51,52,53,54,55,56,57,58,59,60,61,62,63,64,65,66,67,68,69,70,71,72,73,74,75,76,77,78,79,80,81,82,83,84,85,86,87,88,89,90,91,92,93,94,95,96,97,98,99,100,101,102,103,104,105,106,107,108,109,110,111,112,113,114,115,116,117,118,119,120,121,122,123,124,125,126,128,129,130,131) have mixed types. Specify dtype option on import or set low_memory=False.\n",
      "  interactivity=interactivity, compiler=compiler, result=result)\n"
     ]
    }
   ],
   "source": [
    "import pandas as pd\n",
    "from functools import reduce\n",
    "\n",
    "#all_subjects = all_subjects[0:7282]\n",
    "#all_dx = all_dx[0:7282]\n",
    "\n",
    "demog = pd.read_csv('../abcd_ssphp01.csv')\n",
    "all_demog = demog[demog.subjectkey.isin(all_subjects) & demog.eventname.isin(['baseline_year_1_arm_1'])]\n",
    "\n",
    "demog2 = pd.read_csv('../pdem02.csv', encoding = \"ISO-8859-1\")\n",
    "all_demog2 = demog2[demog2.subjectkey.isin(all_subjects)]\n",
    "\n",
    "cogsco = pd.read_csv('../abcd_ps01.csv')\n",
    "all_cogsco = cogsco[cogsco.subjectkey.isin(all_subjects)]\n",
    "\n",
    "nihtbx = pd.read_csv('../abcd_tbss01.csv')\n",
    "all_nihtbx = nihtbx[nihtbx.subjectkey.isin(all_subjects)]\n",
    "\n",
    "nihtbx = pd.read_csv('../cct01.csv')\n",
    "all_cashc = nihtbx[nihtbx.subjectkey.isin(all_subjects)]\n",
    "\n",
    "nihtbx = pd.read_csv('../lmtp201.csv')\n",
    "all_lmt = nihtbx[nihtbx.subjectkey.isin(all_subjects)]\n",
    "\n",
    "#preds = pd.DataFrame({'subjectkey': all_subjects, 'pred': all_pred, 'dx': all_dx, 'features': np.empty(all_dx.shape[0])}, columns=['subjectkey', 'pred', 'dx', 'features'])\n",
    "preds = pd.DataFrame({'subjectkey': all_subs, 'pred': all_pred}, columns=['subjectkey', 'pred'])\n",
    "#fdf = pd.concat([pd.DataFrame(all_features), pd.DataFrame({'subjectkey': all_subjects}, columns=['subjectkey'])], axis=1)\n",
    "\n",
    "\n",
    "dfs = [all_demog, all_demog2, all_cogsco, all_nihtbx, all_cashc, all_lmt, preds, fdf]\n",
    "all_info3 = reduce(lambda left,right: pd.merge(left,right,on='subjectkey'), dfs)"
   ]
  },
  {
   "cell_type": "code",
   "execution_count": 287,
   "metadata": {
    "collapsed": false
   },
   "outputs": [
    {
     "data": {
      "text/plain": [
       "(3854, 8612)"
      ]
     },
     "execution_count": 287,
     "metadata": {},
     "output_type": "execute_result"
    }
   ],
   "source": [
    "all_info3.shape"
   ]
  },
  {
   "cell_type": "code",
   "execution_count": 285,
   "metadata": {
    "collapsed": true
   },
   "outputs": [],
   "source": [
    "from scipy.stats.stats import pearsonr\n",
    "\n",
    "# num_features = 8192\n",
    "pds = np.nan_to_num(pd.to_numeric(all_info3.pds_p_ss_male_category)) + np.nan_to_num(pd.to_numeric(all_info3.pds_p_ss_female_category))\n",
    "age = np.nan_to_num(pd.to_numeric(all_info3.interview_age_x))\n",
    "ses = np.nan_to_num(pd.to_numeric(all_info3.demo_prtnr_ed_v2))\n",
    "\n",
    "sexxx = all_info3.sex_x;\n",
    "sex = np.empty([sexxx.shape[0]])\n",
    "for i in range(sex.shape[0]):\n",
    "    if sexxx[i] == 'M':\n",
    "        sex[i]= 0\n",
    "    elif sexxx[i] == 'F':\n",
    "        sex[i]= 1\n",
    "    else:\n",
    "        print ('Sex unknown!')\n",
    "\n",
    "# pvals_features_pds = np.empty([num_features])\n",
    "# pvals_features_age = np.empty([num_features])\n",
    "# pvals_features_ses = np.empty([num_features])\n",
    "# pvals_features_sex = np.empty([num_features])\n",
    "\n",
    "# for i in range(num_features):\n",
    "#     pds_r, pvals_features_pds[i] = pearsonr(pds, all_info3.iloc[:,i+174])\n",
    "#     age_r, pvals_features_age[i] = pearsonr(age, all_info3.iloc[:,i+174])\n",
    "#     ses_r, pvals_features_ses[i] = pearsonr(ses, all_info3.iloc[:,i+174])\n",
    "#     sex_r, pvals_features_sex[i] = pearsonr(sex, all_info3.iloc[:,i+174])"
   ]
  },
  {
   "cell_type": "code",
   "execution_count": 288,
   "metadata": {
    "collapsed": true
   },
   "outputs": [],
   "source": [
    "import matplotlib.pyplot as plt\n",
    "from mpl_toolkits.mplot3d import Axes3D\n",
    "import seaborn as sns\n",
    "import matplotlib as mpl \n",
    "\n",
    "import matplotlib.pyplot as plt \n",
    "from scipy import stats"
   ]
  },
  {
   "cell_type": "code",
   "execution_count": 363,
   "metadata": {
    "collapsed": false
   },
   "outputs": [
    {
     "name": "stdout",
     "output_type": "stream",
     "text": [
      "17.867102396514163 5.102093475704935\n",
      "17.4603567888999 5.080976029742966\n",
      "nan\n",
      "nan\n",
      "nan\n",
      "nan\n",
      "0.01330917385780057069\n"
     ]
    },
    {
     "name": "stderr",
     "output_type": "stream",
     "text": [
      "C:\\Users\\E31195\\AppData\\Local\\Continuum\\anaconda3\\lib\\site-packages\\ipykernel_launcher.py:9: RuntimeWarning: invalid value encountered in long_scalars\n",
      "  if __name__ == '__main__':\n",
      "C:\\Users\\E31195\\AppData\\Local\\Continuum\\anaconda3\\lib\\site-packages\\ipykernel_launcher.py:10: RuntimeWarning: invalid value encountered in long_scalars\n",
      "  # Remove the CWD from sys.path while we load stuff.\n",
      "C:\\Users\\E31195\\AppData\\Local\\Continuum\\anaconda3\\lib\\site-packages\\ipykernel_launcher.py:12: RuntimeWarning: invalid value encountered in long_scalars\n",
      "  if sys.path[0] == '':\n",
      "C:\\Users\\E31195\\AppData\\Local\\Continuum\\anaconda3\\lib\\site-packages\\ipykernel_launcher.py:13: RuntimeWarning: invalid value encountered in long_scalars\n",
      "  del sys.path[0]\n"
     ]
    }
   ],
   "source": [
    "# test anything you want across sexes\n",
    "aaa = np.nan_to_num(pd.to_numeric(all_info3.pea_wiscv_trs))\n",
    "\n",
    "a = aaa[sex==1]\n",
    "print(np.mean(a), np.std(a))\n",
    "\n",
    "b = aaa[sex==0]\n",
    "print(np.mean(b), np.std(b))\n",
    "\n",
    "print(np.sum(a==1)/(np.sum(a==1)+np.sum(a==2)))\n",
    "print(np.sum(a==2)/(np.sum(a==1)+np.sum(a==2)))\n",
    "\n",
    "print(np.sum(b==1)/(np.sum(b==1)+np.sum(b==2)))\n",
    "print(np.sum(b==2)/(np.sum(b==1)+np.sum(b==2)))\n",
    "\n",
    "[sss, p] = stats.ttest_ind(a, b)\n",
    "\n",
    "print ('%2.20f' % p)"
   ]
  },
  {
   "cell_type": "code",
   "execution_count": 442,
   "metadata": {
    "collapsed": true
   },
   "outputs": [],
   "source": [
    "from matplotlib import pyplot as plt\n",
    "import numpy as np\n",
    "\n",
    "from sklearn.linear_model import (\n",
    "    LinearRegression, TheilSenRegressor, RANSACRegressor, HuberRegressor)\n",
    "from sklearn.metrics import mean_squared_error\n",
    "from sklearn.preprocessing import PolynomialFeatures\n",
    "from sklearn.pipeline import make_pipeline"
   ]
  },
  {
   "cell_type": "code",
   "execution_count": 485,
   "metadata": {
    "collapsed": false
   },
   "outputs": [
    {
     "name": "stdout",
     "output_type": "stream",
     "text": [
      "0.00000000000000000000\n"
     ]
    },
    {
     "name": "stderr",
     "output_type": "stream",
     "text": [
      "C:\\Users\\E31195\\AppData\\Local\\Continuum\\anaconda3\\lib\\site-packages\\matplotlib\\figure.py:457: UserWarning: matplotlib is currently using a non-GUI backend, so cannot show the figure\n",
      "  \"matplotlib is currently using a non-GUI backend, \"\n"
     ]
    },
    {
     "data": {
      "image/png": "[encoded data removed]",
      "text/plain": [
       "<Figure size 648x432 with 1 Axes>"
      ]
     },
     "metadata": {
      "needs_background": "light"
     },
     "output_type": "display_data"
    }
   ],
   "source": [
    "# ss = 'pea_wiscv_trs'\n",
    "# s = 'WISC-V Matrix Reasoning Total Raw Score'\n",
    "\n",
    "ss = 'pea_ravlt_sd_trial_v_tc'\n",
    "s = 'RAVLT Short Delay Trial V Total Correct'\n",
    "\n",
    "# ss = 'lmt_scr_perc_correct'\n",
    "# s = 'Little Man Task Accuracy'\n",
    "\n",
    "# ss = 'nihtbx_picvocab_agecorrected'\n",
    "# s = 'NIH Toolbox Picture Vocabulary Test®'\n",
    "\n",
    "# ss = 'nihtbx_flanker_agecorrected'\n",
    "# s = 'NIH Toolbox Flanker®'\n",
    "\n",
    "# ss = 'nihtbx_list_agecorrected'\n",
    "# s = 'NIH Toolbox Flanker®'\n",
    "\n",
    "# ss = 'nihtbx_list_agecorrected'\n",
    "# s = 'NIH Toolbox List Sorting Working Memory Test®'\n",
    "\n",
    "# ss = 'nihtbx_cardsort_agecorrected'\n",
    "# s = 'NIH Toolbox Dimensional Change Card Sort®'\n",
    "\n",
    "# ss = 'nihtbx_pattern_agecorrected'\n",
    "# s = 'NIH Toolbox Pattern Comparison Processing Speed®'\n",
    "\n",
    "# ss = 'nihtbx_picture_agecorrected'\n",
    "# s = 'NIH Toolbox Picture Sequence Memory Test®'\n",
    "\n",
    "# ss = 'nihtbx_reading_agecorrected'\n",
    "# s = 'NIH Toolbox Oral Reading Recognition Test®'\n",
    "\n",
    "# fvec = np.array(all_info3[ss][sex==1], dtype=np.float64)\n",
    "# mvec = np.array(all_info3[ss][sex==0], dtype=np.float64)\n",
    "fvec = all_info3[ss][sex==1]\n",
    "mvec = all_info3[ss][sex==0]\n",
    "fpred = np.array(all_info3['pred'][sex==1], dtype=np.float64)\n",
    "mpred = np.array(all_info3['pred'][sex==0], dtype=np.float64)\n",
    "\n",
    "fnan = np.isnan(np.array(fvec.values, dtype=np.float64))\n",
    "mnan = np.isnan(np.array(mvec.values, dtype=np.float64))\n",
    "\n",
    "fvec = fvec[~fnan]\n",
    "mvec = mvec[~mnan]\n",
    "fpred = fpred[~fnan]\n",
    "mpred = mpred[~mnan]\n",
    "\n",
    "\n",
    "fvv = np.array(fvec.values, dtype=np.float64)\n",
    "mvv = np.array(mvec.values, dtype=np.float64)\n",
    "meanfvec = np.mean(fvv)\n",
    "meanmvec = np.mean(mvv)\n",
    "\n",
    "[sss, p] = stats.ttest_ind(np.concatenate([fvv, mvv]), np.concatenate([fpred, mpred])) \n",
    "print ('%2.20f' % p)\n",
    "\n",
    "fig1 = plt.figure(1, figsize=(9, 6))\n",
    "#plt.plot(fpred, fvv, '.', c='firebrick', label='Female')\n",
    "plt.plot(mpred, mvv, '.', c='steelblue', label='Male')\n",
    "plt.plot([np.max(fpred),np.min(mpred)],[meanfvec,meanmvec],'-', c='darkorange', linewidth=5, label='Mean Test Score Change')\n",
    "#plt.xticks(np.arange(0), ())\n",
    "#plt.yticks(np.arange(0), ())\n",
    "\n",
    "plt.title(('p-value = %f' % p))\n",
    "plt.xticks([np.max(fpred), np.min(mpred)], ['Female', 'Male'], fontsize=16)\n",
    "plt.xlabel('Prediction Score', fontsize=16)\n",
    "plt.ylabel(s, fontsize=16)\n",
    "plt.legend(loc='best', fontsize=16, shadow=True);\n",
    "fig1.show()\n",
    "\n",
    "fig1.savefig('plots/' + ss + 'scatterplot.eps', format='eps', dpi=300)\n",
    "fig1.savefig('plots/' + ss + 'scatterplot.jpg', format='jpg', dpi=300)      "
   ]
  },
  {
   "cell_type": "code",
   "execution_count": 411,
   "metadata": {
    "collapsed": false,
    "scrolled": false
   },
   "outputs": [
    {
     "name": "stdout",
     "output_type": "stream",
     "text": [
      "f = 104.45 +/- 19.53\n",
      "m = 103.65 +/- 18.52\n",
      "p = 0.1913222644\n"
     ]
    },
    {
     "data": {
      "image/png": "[encoded data removed]",
      "text/plain": [
       "<Figure size 576x432 with 1 Axes>"
      ]
     },
     "metadata": {
      "needs_background": "light"
     },
     "output_type": "display_data"
    }
   ],
   "source": [
    "        \n",
    "[sss, p] = stats.ttest_ind(fvv, mvv)\n",
    "print ('f = %.2f +/- %.2f\\nm = %.2f +/- %.2f\\np = %.10f' % (np.mean(fvv), np.std(fvv), np.mean(mvv), np.std(mvv), p))\n",
    "\n",
    "data_to_plot = [mvv, fvv]\n",
    "fig2 = plt.figure(2, figsize=(8, 6))\n",
    "plt.grid(color='grey', linestyle='-', linewidth=0.5)\n",
    "bp = plt.boxplot(data_to_plot, notch=True)\n",
    "plt.xticks([1, 2], ['Male', 'Female'], fontsize=16)\n",
    "plt.ylabel(s, fontsize=16) \n",
    "plt.title((' Group Difference (p-value = %f)' % p), fontsize=18)\n",
    "\n",
    "fig2.savefig('plots/' + ss + 'groupdiff.eps', format='eps', dpi=300)\n",
    "fig2.savefig('plots/' + ss + 'groupdiff.jpg', format='jpg', dpi=300)      \n"
   ]
  },
  {
   "cell_type": "code",
   "execution_count": 493,
   "metadata": {
    "collapsed": false
   },
   "outputs": [
    {
     "name": "stdout",
     "output_type": "stream",
     "text": [
      "pea_wiscv_trs\n",
      "S  <->CT: \t\t corr=0.02346602994383184190 \t p=0.15366319683989615452\n",
      "Sex<->CT: \t\t corr=0.06253049316008302272 \t p=0.00014180905680753983\n",
      "GLM p-values S: 0.000974 Sex:0.000001\n",
      "pea_ravlt_sd_trial_v_tc\n",
      "S  <->CT: \t\t corr=0.08152380333578419791 \t p=0.00000047331761901848\n",
      "Sex<->CT: \t\t corr=0.10947486429407804476 \t p=0.00000000001262759087\n",
      "GLM p-values S: 0.218640 Sex:0.000003\n",
      "lmt_scr_perc_correct\n",
      "S  <->CT: \t\t corr=-0.07916731052448336414 \t p=0.00000086435906461683\n",
      "Sex<->CT: \t\t corr=-0.07928350078458057393 \t p=0.00000083293064483239\n",
      "GLM p-values S: 0.152660 Sex:0.145687\n",
      "cash_choice_task\n",
      "S  <->CT: \t\t corr=0.02433044710814840500 \t p=0.13124727791930207443\n",
      "Sex<->CT: \t\t corr=0.04322837341895678642 \t p=0.00731212754543905490\n",
      "GLM p-values S: 0.163821 Sex:0.008812\n",
      "nihtbx_picvocab_agecorrected\n",
      "S  <->CT: \t\t corr=-0.03476577450761660776 \t p=0.03090978630439710981\n",
      "Sex<->CT: \t\t corr=-0.02425349064208340982 \t p=0.13222022058802498923\n",
      "GLM p-values S: 0.098526 Sex:0.561639\n",
      "nihtbx_reading_agecorrected\n",
      "S  <->CT: \t\t corr=-0.00032214480111066946 \t p=0.98404939272446156906\n",
      "Sex<->CT: \t\t corr=0.02105258008014277912 \t p=0.19132226440607583151\n",
      "GLM p-values S: 0.037369 Sex:0.013965\n",
      "nihtbx_flanker_agecorrected\n",
      "S  <->CT: \t\t corr=-0.02932240151111683082 \t p=0.06873572055952015258\n",
      "Sex<->CT: \t\t corr=-0.02847091113991734312 \t p=0.07718203093756521860\n",
      "GLM p-values S: 0.538567 Sex:0.664152\n",
      "nihtbx_list_agecorrected\n",
      "S  <->CT: \t\t corr=-0.05275721577001128704 \t p=0.00105132637853831354\n",
      "Sex<->CT: \t\t corr=-0.03339354035283593342 \t p=0.03817261349269855664\n",
      "GLM p-values S: 0.004498 Sex:0.202247\n",
      "nihtbx_cardsort_agecorrected\n",
      "S  <->CT: \t\t corr=0.01790143562375132863 \t p=0.26654241323008182052\n",
      "Sex<->CT: \t\t corr=0.04712809452221419088 \t p=0.00342890990635338032\n",
      "GLM p-values S: 0.011862 Sex:0.000217\n",
      "nihtbx_pattern_agecorrected\n",
      "S  <->CT: \t\t corr=0.04859529215744498587 \t p=0.00254760814563931466\n",
      "Sex<->CT: \t\t corr=0.06887057533992056724 \t p=0.00001875488916095167\n",
      "GLM p-values S: 0.276373 Sex:0.001258\n",
      "nihtbx_picture_agecorrected\n",
      "S  <->CT: \t\t corr=0.06991246806917804368 \t p=0.00001398379337898498\n",
      "Sex<->CT: \t\t corr=0.08794378514213532783 \t p=0.00000004540423143711\n",
      "GLM p-values S: 0.629047 Sex:0.000783\n"
     ]
    }
   ],
   "source": [
    "import statsmodels.api as sm\n",
    "\n",
    "cts = ['pea_wiscv_trs',\\\n",
    "       'pea_ravlt_sd_trial_v_tc',\\\n",
    "       'lmt_scr_perc_correct',\\\n",
    "       'cash_choice_task',\\\n",
    "       'nihtbx_picvocab_agecorrected',\\\n",
    "       'nihtbx_reading_agecorrected',\\\n",
    "       'nihtbx_flanker_agecorrected',\\\n",
    "       'nihtbx_list_agecorrected',\\\n",
    "       'nihtbx_cardsort_agecorrected',\\\n",
    "       'nihtbx_pattern_agecorrected',\\\n",
    "       'nihtbx_picture_agecorrected']\n",
    "ctns = ['WISC-V Matrix Reasoning Total Raw Score',\\\n",
    "        'RAVLT Short Delay Trial V Total Correct',\\\n",
    "        'Little Man Task Accuracy',\\\n",
    "        'Cash Choice Task',\\\n",
    "        'NIH Toolbox Picture Vocabulary Test®',\\\n",
    "        'NIH Toolbox Oral Reading Recognition Test®',\\\n",
    "        'NIH Toolbox Flanker®',\\\n",
    "        'NIH Toolbox List Sorting Working Memory Test®',\\\n",
    "        'NIH Toolbox Dimensional Change Card Sort®',\\\n",
    "        'NIH Toolbox Pattern Comparison Processing Speed®',\\\n",
    "        'NIH Toolbox Picture Sequence Memory Test®']\n",
    "\n",
    "for (ct, s) in zip(cts, ctns):\n",
    "    # fvec = np.array(all_info3[ss][sex==1], dtype=np.float64)\n",
    "    # mvec = np.array(all_info3[ss][sex==0], dtype=np.float64)\n",
    "    fvec = all_info3[ct][sex==1]\n",
    "    mvec = all_info3[ct][sex==0]\n",
    "    fpred = np.array(all_info3['pred'][sex==1], dtype=np.float64)\n",
    "    mpred = np.array(all_info3['pred'][sex==0], dtype=np.float64)\n",
    "    fnan = np.isnan(np.array(fvec.values, dtype=np.float64))\n",
    "    mnan = np.isnan(np.array(mvec.values, dtype=np.float64))\n",
    "    fvec = fvec[~fnan]\n",
    "    mvec = mvec[~mnan]\n",
    "    fpred = fpred[~fnan]\n",
    "    mpred = mpred[~mnan]\n",
    "    fct = np.array(fvec.values, dtype=np.float64)\n",
    "    mct = np.array(mvec.values, dtype=np.float64)\n",
    "    meanfvec = np.mean(fct)\n",
    "    meanmvec = np.mean(mct)\n",
    "    \n",
    "    CT = np.concatenate([fct, mct])\n",
    "    S = np.concatenate([fpred, mpred])\n",
    "    Sex = np.concatenate([np.ones(fpred.shape[0]), np.zeros(mpred.shape[0])])\n",
    "    \n",
    "    #[t, p] = stats.ttest_ind(CT, S) \n",
    "    [t, p] = pearsonr(CT, S) \n",
    "    print ('%s\\nS  <->CT: \\t\\t corr=%2.20f \\t p=%2.20f' % (ct, t, p))\n",
    "    #[t, p] = stats.ttest_ind(CT, Sex) \n",
    "    [t, p] = pearsonr(CT, Sex) \n",
    "    print ('Sex<->CT: \\t\\t corr=%2.20f \\t p=%2.20f' % (t, p))\n",
    "    \n",
    "    X = np.zeros((S.shape[0],3))\n",
    "    X[:,0]= S\n",
    "    X[:,1]= Sex   \n",
    "    X[:,2] = 1\n",
    "    glm_model = sm.GLM(CT,X)\n",
    "    glm_results = glm_model.fit()\n",
    "    p = glm_results.pvalues\n",
    "    print ('GLM p-values S: %f Sex:%f' % (p[0], p[1]))\n",
    "\n"
   ]
  },
  {
   "cell_type": "code",
   "execution_count": 488,
   "metadata": {
    "collapsed": true
   },
   "outputs": [],
   "source": [
    "volums_scores = pd.read_csv('../all_vol_scores.csv')\n",
    "all_vol = volums_scores[volums_scores.subjectkey.isin(all_subjects)]\n",
    "dfs2 = [all_info3, all_vol]\n",
    "all_info4 = reduce(lambda left,right: pd.merge(left,right,on='subjectkey'), dfs2)"
   ]
  },
  {
   "cell_type": "code",
   "execution_count": 492,
   "metadata": {
    "collapsed": false
   },
   "outputs": [
    {
     "name": "stdout",
     "output_type": "stream",
     "text": [
      "hippo<->rvlt: \t\t corr=0.05334511725786057063 \t p=0.00099228558866936573\n"
     ]
    }
   ],
   "source": [
    "hippo = np.array(all_info4['sri24_parc116_hippocampus_l_gm'][:], dtype=np.float64) + \\\n",
    "np.array(all_info4['sri24_parc116_hippocampus_r_gm'][:], dtype=np.float64)\n",
    "\n",
    "rvlt = np.array(all_info4['pea_ravlt_sd_trial_v_tc'][:], dtype=np.float64)\n",
    "\n",
    "hnan = np.isnan(hippo)\n",
    "rnan = np.isnan(rvlt)\n",
    "hippo = hippo[~(hnan | rnan)]\n",
    "rvlt = rvlt[~(hnan | rnan)]\n",
    "\n",
    "[t, p] = pearsonr(hippo, rvlt) \n",
    "print ('hippo<->rvlt: \\t\\t corr=%2.20f \\t p=%2.20f' % (t, p))\n"
   ]
  },
  {
   "cell_type": "code",
   "execution_count": 489,
   "metadata": {
    "collapsed": false
   },
   "outputs": [
    {
     "name": "stdout",
     "output_type": "stream",
     "text": [
      "sri24_parc116_hippocampus_l_gm\n",
      "sri24_parc116_hippocampus_r_gm\n"
     ]
    }
   ],
   "source": [
    "namee = 'hippocampus'\n",
    "for s in all_info4.columns[:]:\n",
    "    if isinstance(s, str) and namee.lower() in s.lower():\n",
    "        print (s)"
   ]
  }
 ],
 "metadata": {
  "anaconda-cloud": {},
  "kernelspec": {
   "display_name": "Python [default]",
   "language": "python",
   "name": "python3"
  },
  "language_info": {
   "codemirror_mode": {
    "name": "ipython",
    "version": 3
   },
   "file_extension": ".py",
   "mimetype": "text/x-python",
   "name": "python",
   "nbconvert_exporter": "python",
   "pygments_lexer": "ipython3",
   "version": "3.5.2"
  }
 },
 "nbformat": 4,
 "nbformat_minor": 2
}
