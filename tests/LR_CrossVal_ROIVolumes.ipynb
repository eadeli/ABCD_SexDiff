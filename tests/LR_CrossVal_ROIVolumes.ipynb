{
 "cells": [
  {
   "cell_type": "code",
   "execution_count": 1,
   "metadata": {},
   "outputs": [],
   "source": [
    "import numpy as np \n",
    "import pandas as pd\n",
    "from functools import reduce\n",
    "\n",
    "all_subs     = np.array([])\n",
    "all_pred     = np.array([])\n",
    "all_dx       = np.array([])\n",
    "# import os\n",
    "# print (os.getcwd())\n",
    "\n",
    "for i in range(5):\n",
    "    all_subs = np.concatenate((all_subs, np.genfromtxt('../5cv/subid_' + str(i+1) + '.txt', dtype='str')))\n",
    "    all_dx = np.concatenate([all_dx,  np.loadtxt('../5cv/dx_' + str(i+1) + '.txt')]) \n",
    "    all_pred = np.concatenate([all_pred,  np.loadtxt('../5cv/pred_' + str(i+1) + '.txt')]) \n",
    "    \n",
    "    \n",
    "volums_scores = pd.read_csv('../all_vol_scores.csv')\n",
    "all_vol = volums_scores[volums_scores.subjectkey.isin(all_subs)]\n",
    "\n",
    "\n",
    "preds = pd.DataFrame({'subjectkey': all_subs, 'pred': all_pred, 'dx': all_dx}, columns=['subjectkey', 'pred', 'dx'])\n",
    "\n",
    "dfs = [preds, all_vol]\n",
    "all_info = reduce(lambda left,right: pd.merge(left,right,on='subjectkey'), dfs)\n"
   ]
  },
  {
   "cell_type": "code",
   "execution_count": 2,
   "metadata": {},
   "outputs": [],
   "source": [
    "Y = np.array(all_info['dx'], dtype=np.float64)\n",
    "X = np.zeros((Y.shape[0],all_info.shape[1]-1-3))\n",
    "\n",
    "i = 0\n",
    "for s in all_info.columns[3:all_info.shape[1]-1]:\n",
    "    X[:,i] = np.array(all_info[s], dtype=np.float64)\n",
    "    i+=1"
   ]
  },
  {
   "cell_type": "code",
   "execution_count": 4,
   "metadata": {},
   "outputs": [
    {
     "name": "stdout",
     "output_type": "stream",
     "text": [
      "0.7423870333988212\n"
     ]
    }
   ],
   "source": [
    "from sklearn.model_selection import train_test_split\n",
    "from sklearn.linear_model import LogisticRegression\n",
    "from sklearn import metrics, cross_validation\n",
    "\n",
    "predicted = cross_validation.cross_val_predict(LogisticRegression(), X, Y, cv=5)\n",
    "print (metrics.accuracy_score(Y, predicted))"
   ]
  },
  {
   "cell_type": "code",
   "execution_count": 18,
   "metadata": {},
   "outputs": [
    {
     "name": "stdout",
     "output_type": "stream",
     "text": [
      "RF Accuracy: 0.71 (+/- 0.03)\n"
     ]
    }
   ],
   "source": [
    "from sklearn.ensemble import RandomForestClassifier\n",
    "from sklearn.model_selection import cross_val_score\n",
    "\n",
    "clf = RandomForestClassifier(n_estimators=1500, max_depth=50, random_state=0) #Initialize with whatever parameters you want to\n",
    "\n",
    "scores_rf = cross_val_score(clf, X, Y, cv=5)\n",
    "print(\"RF Accuracy: %0.2f (+/- %0.2f)\" % (scores_rf.mean() * 100.0, scores_rf.std() * 2 * 100.0))"
   ]
  },
  {
   "cell_type": "code",
   "execution_count": 20,
   "metadata": {},
   "outputs": [
    {
     "name": "stdout",
     "output_type": "stream",
     "text": [
      "SVM Accuracy: 74.09 (+/- 3.09)\n"
     ]
    }
   ],
   "source": [
    "print(\"SVM Accuracy: %0.2f (+/- %0.2f)\" % (scores.mean() * 100.0, scores.std() * 2 * 100.0))"
   ]
  },
  {
   "cell_type": "code",
   "execution_count": 21,
   "metadata": {
    "scrolled": true
   },
   "outputs": [
    {
     "name": "stdout",
     "output_type": "stream",
     "text": [
      "RF Accuracy: 70.91 (+/- 2.76)\n"
     ]
    }
   ],
   "source": [
    "print(\"RF Accuracy: %0.2f (+/- %0.2f)\" % (scores_rf.mean() * 100.0, scores_rf.std() * 2 * 100.0))"
   ]
  }
 ],
 "metadata": {
  "kernelspec": {
   "display_name": "Python 3",
   "language": "python",
   "name": "python3"
  },
  "language_info": {
   "codemirror_mode": {
    "name": "ipython",
    "version": 3
   },
   "file_extension": ".py",
   "mimetype": "text/x-python",
   "name": "python",
   "nbconvert_exporter": "python",
   "pygments_lexer": "ipython3",
   "version": "3.7.0"
  }
 },
 "nbformat": 4,
 "nbformat_minor": 2
}
