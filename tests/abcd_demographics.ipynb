{
 "cells": [
  {
   "cell_type": "code",
   "execution_count": 1,
   "metadata": {},
   "outputs": [
    {
     "name": "stdout",
     "output_type": "stream",
     "text": [
      "C:\\Users\\E31195\\Dropbox\\Stanford\\Codes\\ABCD\\SexDiff\n"
     ]
    }
   ],
   "source": [
    "import numpy as np \n",
    "import os\n",
    "\n",
    "subid = np.array([])\n",
    "dx = np.array([])\n",
    "pred = np.array([])\n",
    "#features = np.concatenate([np.loadtxt('./features_1.txt'), np.loadtxt('./features_2.txt'), np.loadtxt('./features_3.txt'), np.loadtxt('./features_4.txt'), np.loadtxt('./features_5.txt')])\n",
    "#print(features.shape)\n",
    "print(os.getcwd())\n",
    "for i in range(5):\n",
    "    subid = np.concatenate([subid, np.genfromtxt('./5cv/subid_' + str(i+1) + '.txt', dtype='str')]) \n",
    "    dx = np.concatenate([dx,  np.loadtxt('./5cv/dx_' + str(i+1) + '.txt')]) \n",
    "    pred = np.concatenate([pred,  np.loadtxt('./5cv/pred_' + str(i+1) + '.txt')]) \n",
    "#    features = np.concatenate([features,  np.loadtxt('./features_' + str(i+1) + '.txt')], axis=0) \n"
   ]
  },
  {
   "cell_type": "code",
   "execution_count": 2,
   "metadata": {},
   "outputs": [
    {
     "name": "stdout",
     "output_type": "stream",
     "text": [
      "0.8953831041257367\n"
     ]
    }
   ],
   "source": [
    "predclass = pred>=0.5\n",
    "print(sum(predclass==dx)/pred.shape[0])"
   ]
  },
  {
   "cell_type": "code",
   "execution_count": 10,
   "metadata": {},
   "outputs": [
    {
     "name": "stderr",
     "output_type": "stream",
     "text": [
      "C:\\Users\\E31195\\AppData\\Local\\Continuum\\anaconda3\\lib\\site-packages\\IPython\\core\\interactiveshell.py:2785: DtypeWarning: Columns (0,1,2,5,9,10,11,12,13,14,15,16,17,18,19,20,21,22,23,24,25,26,27,28,29,30,31,32,33,34,35,36,37,38) have mixed types. Specify dtype option on import or set low_memory=False.\n",
      "  interactivity=interactivity, compiler=compiler, result=result)\n"
     ]
    }
   ],
   "source": [
    "import pandas as pd\n",
    "from functools import reduce\n",
    "\n",
    "demog = pd.read_csv('abcd_ssphp01.csv')\n",
    "allsub_demog = demog[demog.subjectkey.isin(subid) & demog.eventname.isin(['baseline_year_1_arm_1'])]\n",
    "\n",
    "volscores = pd.read_csv('volume_scores.csv')\n",
    "svol = volscores[['subjectkey', 'sri24_suptent_supratentorium_volume']]\n",
    "preds = pd.DataFrame({'subjectkey': subid, 'pred': pred, 'dx': dx, 'predclass': predclass}, columns=['subjectkey', 'pred', 'dx', 'predclass'])\n",
    "#dfs = [allsub_demog, preds, svol]\n",
    "dfs = [allsub_demog, svol]\n",
    "all_info = reduce(lambda left,right: pd.merge(left,right,on='subjectkey'), dfs)\n",
    "\n"
   ]
  },
  {
   "cell_type": "code",
   "execution_count": 17,
   "metadata": {},
   "outputs": [
    {
     "name": "stdout",
     "output_type": "stream",
     "text": [
      "0.10422388940708013361\n",
      "1341.511098844673 15.34797080160998\n",
      "1342.0783101906322 16.08011252437921\n"
     ]
    }
   ],
   "source": [
    "from scipy import stats\n",
    "from scipy.stats.stats import pearsonr\n",
    "from scipy.stats import chisquare\n",
    "\n",
    "svols = pd.to_numeric(all_info.sri24_suptent_supratentorium_volume)\n",
    "svolf = svols[all_info['sex'] == 'F']\n",
    "svolm = svols[all_info['sex'] == 'M']\n",
    "\n",
    "[sss, p] = stats.ttest_ind(svolf, svolm)\n",
    "print ('%2.20f' % p)\n",
    "\n",
    "print (np.mean(svolf/1000), np.std(svolf/1000))\n",
    "print (np.mean(svolm/1000), np.std(svolm/1000))\n"
   ]
  },
  {
   "cell_type": "code",
   "execution_count": 11,
   "metadata": {},
   "outputs": [
    {
     "data": {
      "text/plain": [
       "Index(['collection_id', 'abcd_ssphp01_id', 'dataset_id', 'subjectkey',\n",
       "       'src_subject_id', 'interview_age', 'interview_date', 'sex', 'eventname',\n",
       "       'sds_p_ss_dims', 'sds_p_ss_dims_nm', 'sds_p_ss_dims_nt', 'sds_p_ss_sbd',\n",
       "       'sds_p_ss_sbd_nm', 'sds_p_ss_sbd_nt', 'sds_p_ss_da', 'sds_p_ss_da_nm',\n",
       "       'sds_p_ss_da_nt', 'sds_p_ss_swtd', 'sds_p_ss_swtd_nm',\n",
       "       'sds_p_ss_swtd_nt', 'sds_p_ss_does', 'sds_p_ss_does_nm',\n",
       "       'sds_p_ss_does_nt', 'sds_p_ss_shy', 'sds_p_ss_shy_nm',\n",
       "       'sds_p_ss_shy_nt', 'sds_p_ss_total', 'sds_p_ss_total_nm',\n",
       "       'sds_p_ss_total_nt', 'pds_p_ss_male_category', 'pds_p_ss_male_cat_nm',\n",
       "       'pds_p_ss_male_cat_nt', 'pds_p_ss_female_category',\n",
       "       'pds_p_ss_female_cat_nm', 'pds_p_ss_female_cat_nt', 'cna_p_ss_sum',\n",
       "       'cna_p_ss_sum_nm', 'cna_p_ss_sum_nt', 'collection_title',\n",
       "       'sri24_suptent_supratentorium_volume'],\n",
       "      dtype='object')"
      ]
     },
     "execution_count": 11,
     "metadata": {},
     "output_type": "execute_result"
    }
   ],
   "source": [
    "all_info.columns\n"
   ]
  },
  {
   "cell_type": "code",
   "execution_count": null,
   "metadata": {},
   "outputs": [],
   "source": []
  },
  {
   "cell_type": "code",
   "execution_count": 109,
   "metadata": {},
   "outputs": [
    {
     "name": "stdout",
     "output_type": "stream",
     "text": [
      "2.143917307182613 0.9071458376063103\n",
      "1.3422590068159688 0.5839428476924595\n",
      "0.00000000000000000000\n",
      "chi2 = 1819.863862; p = 0.00000000000000000000\n"
     ]
    }
   ],
   "source": [
    "from scipy import stats\n",
    "from scipy.stats.stats import pearsonr\n",
    "from scipy.stats import chisquare\n",
    "\n",
    "pds_m = (pd.to_numeric(all_info.pds_p_ss_male_category))\n",
    "pds_f = (pd.to_numeric(all_info.pds_p_ss_female_category))\n",
    "\n",
    "pf = (pds_f[all_info['sex'] == 'F'])\n",
    "pm = (pds_m[all_info['sex'] == 'M'])\n",
    "\n",
    "pfnan = np.isnan(pf)\n",
    "pmnan = np.isnan(pm)\n",
    "\n",
    "pf = pf[~pfnan]\n",
    "pm = pm[~pmnan]\n",
    "\n",
    "print (np.mean(pf), np.std(pf))\n",
    "print (np.mean(pm), np.std(pm))\n",
    "\n",
    "[sss, p] = stats.ttest_ind(pf, pm)\n",
    "\n",
    "print ('%2.20f' % p)\n",
    "\n",
    "pdsfreq = np.zeros([2,5])\n",
    "pdsfreq[0][0] = sum(pf == 1.0)\n",
    "pdsfreq[0][1] = sum(pf == 2.0)\n",
    "pdsfreq[0][2] = sum(pf == 3.0)\n",
    "pdsfreq[0][3] = sum(pf == 4.0)\n",
    "pdsfreq[0][4] = sum(pf == 5.0)\n",
    "pdsfreq[1][0] = sum(pm == 1.0)\n",
    "pdsfreq[1][1] = sum(pm == 2.0)\n",
    "pdsfreq[1][2] = sum(pm == 3.0)\n",
    "pdsfreq[1][3] = sum(pm == 4.0)\n",
    "pdsfreq[1][4] = sum(pm == 5.0)\n",
    "\n",
    "chi2_stat, p_val, dof, ex = stats.chi2_contingency(pdsfreq)\n",
    "print ('chi2 = %f; p = %2.20f' % (chi2_stat, p_val))"
   ]
  },
  {
   "cell_type": "code",
   "execution_count": 110,
   "metadata": {},
   "outputs": [
    {
     "name": "stdout",
     "output_type": "stream",
     "text": [
      "2.046908315565032 0.8989071984964152\n",
      "1.3654970760233918 0.6336399661610663\n",
      "0.00000000000000000000\n",
      "chi2 = 135.788254; p = 0.00000000000000000000\n"
     ]
    }
   ],
   "source": [
    "# look at incorrectly classified ones \n",
    "\n",
    "sf = all_info['sex'] == 'F'\n",
    "sm = all_info['sex'] == 'M'\n",
    "cc = all_info['dx'] == all_info['predclass']\n",
    "\n",
    "pfi = (pds_f[sf & ~cc])\n",
    "pmi = (pds_m[sm & ~cc])\n",
    "\n",
    "pfinan = np.isnan(pfi)\n",
    "pminan = np.isnan(pmi)\n",
    "\n",
    "pfi = pfi[~pfinan]\n",
    "pmi = pmi[~pminan]\n",
    "\n",
    "print (np.mean(pfi), np.std(pfi))\n",
    "print (np.mean(pmi), np.std(pmi))\n",
    "\n",
    "[sss, p] = stats.ttest_ind(pfi, pmi)\n",
    "\n",
    "print ('%2.20f' % p)\n",
    "\n",
    "pdsfreqi = np.zeros([2,5])\n",
    "pdsfreqi[0][0] = sum(pfi == 1.0)\n",
    "pdsfreqi[0][1] = sum(pfi == 2.0)\n",
    "pdsfreqi[0][2] = sum(pfi == 3.0)\n",
    "pdsfreqi[0][3] = sum(pfi == 4.0)\n",
    "pdsfreqi[0][4] = sum(pfi == 5.0)\n",
    "pdsfreqi[1][0] = sum(pmi == 1.0)\n",
    "pdsfreqi[1][1] = sum(pmi == 2.0)\n",
    "pdsfreqi[1][2] = sum(pmi == 3.0)\n",
    "pdsfreqi[1][3] = sum(pmi == 4.0)\n",
    "pdsfreqi[1][4] = sum(pmi == 5.0)\n",
    "\n",
    "chi2_stat, p_val, dof, ex = stats.chi2_contingency(pdsfreqi)\n",
    "print ('chi2 = %f; p = %2.20f' % (chi2_stat, p_val))"
   ]
  },
  {
   "cell_type": "code",
   "execution_count": 111,
   "metadata": {},
   "outputs": [
    {
     "name": "stdout",
     "output_type": "stream",
     "text": [
      "2.157687651331719 0.9074691300815164\n",
      "1.3401486988847584 0.5791723902733596\n",
      "0.00000000000000000000\n",
      "chi2 = 1695.630250; p = 0.00000000000000000000\n"
     ]
    }
   ],
   "source": [
    "# look at incorrectly classified ones \n",
    "\n",
    "sf = all_info['sex'] == 'F'\n",
    "sm = all_info['sex'] == 'M'\n",
    "cc = all_info['dx'] == all_info['predclass']\n",
    "\n",
    "pfc = (pds_f[sf & cc])\n",
    "pmc = (pds_m[sm & cc])\n",
    "\n",
    "pfinan = np.isnan(pfc)\n",
    "pminan = np.isnan(pmc)\n",
    "\n",
    "pfc = pfc[~pfinan]\n",
    "pmc = pmc[~pminan]\n",
    "\n",
    "print (np.mean(pfc), np.std(pfc))\n",
    "print (np.mean(pmc), np.std(pmc))\n",
    "\n",
    "[sss, p] = stats.ttest_ind(pfc, pmc)\n",
    "\n",
    "print ('%2.20f' % p)\n",
    "\n",
    "pdsfreqc = np.zeros([2,5])\n",
    "pdsfreqc[0][0] = sum(pfc == 1.0)\n",
    "pdsfreqc[0][1] = sum(pfc == 2.0)\n",
    "pdsfreqc[0][2] = sum(pfc == 3.0)\n",
    "pdsfreqc[0][3] = sum(pfc == 4.0)\n",
    "pdsfreqc[0][4] = sum(pfc == 5.0)\n",
    "pdsfreqc[1][0] = sum(pmc == 1.0)\n",
    "pdsfreqc[1][1] = sum(pmc == 2.0)\n",
    "pdsfreqc[1][2] = sum(pmc == 3.0)\n",
    "pdsfreqc[1][3] = sum(pmc == 4.0)\n",
    "pdsfreqc[1][4] = sum(pmc == 5.0)\n",
    "\n",
    "chi2_stat, p_val, dof, ex = stats.chi2_contingency(pdsfreqc)\n",
    "print ('chi2 = %f; p = %2.20f' % (chi2_stat, p_val))"
   ]
  },
  {
   "cell_type": "code",
   "execution_count": 121,
   "metadata": {},
   "outputs": [
    {
     "name": "stdout",
     "output_type": "stream",
     "text": [
      "chi2 = 49.034000; p = 0.00000016356336427372\n"
     ]
    }
   ],
   "source": [
    "pdsall = np.zeros([2,10])\n",
    "pdsall[0][0:5] = pdsfreqi[0][:]\n",
    "pdsall[0][5:10] = pdsfreqi[1][:]\n",
    "pdsall[1][0:5] = pdsfreqc[0][:]\n",
    "pdsall[1][5:10] = pdsfreqc[1][:]\n",
    "\n",
    "chi2_stat, p_val, dof, ex = stats.chi2_contingency(pdsall)\n",
    "print ('chi2 = %f; p = %2.20f' % (chi2_stat, p_val))"
   ]
  },
  {
   "cell_type": "code",
   "execution_count": 139,
   "metadata": {},
   "outputs": [
    {
     "data": {
      "text/plain": [
       "0.8571428571428571"
      ]
     },
     "execution_count": 139,
     "metadata": {},
     "output_type": "execute_result"
    }
   ],
   "source": [
    "a = 5\n",
    "\n",
    "(sum(cc[pds_m == a]) + sum(cc[pds_f == a]))/(sum(pds_m == a) + sum(pds_f == a))"
   ]
  },
  {
   "cell_type": "code",
   "execution_count": 108,
   "metadata": {},
   "outputs": [
    {
     "data": {
      "text/plain": [
       "array([[1.041e+03, 7.960e+02, 1.377e+03, 8.500e+01, 5.000e+00],\n",
       "       [2.683e+03, 8.950e+02, 1.790e+02, 8.000e+00, 1.000e+00]])"
      ]
     },
     "execution_count": 108,
     "metadata": {},
     "output_type": "execute_result"
    }
   ],
   "source": [
    "pdsfreqi"
   ]
  },
  {
   "cell_type": "code",
   "execution_count": 216,
   "metadata": {},
   "outputs": [
    {
     "name": "stdout",
     "output_type": "stream",
     "text": [
      "SVol\t -0.034661\t 0.003095 \n",
      "SVol-Sx\t -0.019381\t 0.098179 \n",
      "Age\t -0.013057\t 0.265243 \n",
      "PDS\t 0.373848\t 0.000000\n",
      "PDS_M\t 0.053641\t 0.001093 \n",
      "PDS_F\t 0.056189\t 0.001094 \n",
      "PDS-SEX\t 0.440283\t 0.000000\n"
     ]
    }
   ],
   "source": [
    "from scipy.stats.stats import pearsonr\n",
    "\n",
    "svol_r, svol_p = pearsonr(all_info.sri24_suptent_supratentorium_volume, all_info.pred)\n",
    "svolsex_r, svolsex_p = pearsonr(all_info.sri24_suptent_supratentorium_volume, all_info.dx)\n",
    "age_r, age_p = pearsonr(pd.to_numeric(all_info.interview_age), all_info.pred)\n",
    "\n",
    "pds = np.nan_to_num(pd.to_numeric(all_info.pds_p_ss_male_category)) + np.nan_to_num(pd.to_numeric(all_info.pds_p_ss_female_category))\n",
    "pds_r, pds_p = pearsonr(pds, all_info.pred)\n",
    "pdssex_r, pdssex_p = pearsonr(pds, all_info.dx)\n",
    "\n",
    "pds = pd.to_numeric(all_info.pds_p_ss_male_category)\n",
    "idx = ~np.isnan(pds)\n",
    "pdsm_r, pdsm_p = pearsonr(pds[idx], all_info[idx].pred)\n",
    "\n",
    "pds = pd.to_numeric(all_info.pds_p_ss_female_category)\n",
    "idx = ~np.isnan(pds)\n",
    "pdsf_r, pdsf_p = pearsonr(pds[idx], all_info[idx].pred)\n",
    "\n",
    "print ('SVol\\t %f\\t %f \\nSVol-Sx\\t %f\\t %f \\nAge\\t %f\\t %f \\nPDS\\t %f\\t %f' % (svol_r, svol_p, svolsex_r, svolsex_p, age_r, age_p, pds_r, pds_p))\n",
    "print ('PDS_M\\t %f\\t %f \\nPDS_F\\t %f\\t %f \\nPDS-SEX\\t %f\\t %f' % (pdsm_r, pdsm_p, pdsf_r, pdsf_p, pdssex_r, pdssex_p))"
   ]
  },
  {
   "cell_type": "code",
   "execution_count": 40,
   "metadata": {},
   "outputs": [
    {
     "name": "stdout",
     "output_type": "stream",
     "text": [
      "9.920902866923413 0.6193579092708873\n",
      "9.949694045657766 0.6231226645579144\n",
      "0.03677028487432058845\n"
     ]
    }
   ],
   "source": [
    "from scipy import stats\n",
    "\n",
    "allage = pd.to_numeric(all_info['interview_age'])\n",
    "male = allage[all_info['sex'] == 'M']\n",
    "female = allage[all_info['sex'] == 'F']\n",
    "print (np.mean(female/12), np.std(female/12))\n",
    "print (np.mean(male/12), np.std(male/12))\n",
    "\n",
    "[sss, p] = stats.ttest_ind(female, male)\n",
    "\n",
    "print ('%2.20f' % p)\n"
   ]
  },
  {
   "cell_type": "code",
   "execution_count": 56,
   "metadata": {},
   "outputs": [
    {
     "name": "stdout",
     "output_type": "stream",
     "text": [
      "1.5555555555555556 0.8314794192830981\n",
      "1.3422590068159688 0.5839428476924595\n",
      "0.27440624941732694175\n"
     ]
    }
   ],
   "source": [
    "pds = (pd.to_numeric(all_info.pds_p_ss_male_category)) + np.nan_to_num(pd.to_numeric(all_info.pds_p_ss_female_category))\n",
    "\n",
    "# pm = np.nan_to_num(pds[all_info['sex'] == 'M'])\n",
    "# pf = np.nan_to_num(pds[all_info['sex'] == 'F'])\n",
    "pf = (pds[all_info['sex'] == 'F'])\n",
    "pm = (pds[all_info['sex'] == 'M'])\n",
    "\n",
    "pfnan = np.isnan(pf)\n",
    "pmnan = np.isnan(pm)\n",
    "\n",
    "pf = pf[~pfnan]\n",
    "pm = pm[~pmnan]\n",
    "\n",
    "print (np.mean(pf), np.std(pf))\n",
    "print (np.mean(pm), np.std(pm))\n",
    "\n",
    "[sss, p] = stats.ttest_ind(pf, pm)\n",
    "\n",
    "print ('%2.20f' % p)"
   ]
  },
  {
   "cell_type": "code",
   "execution_count": 140,
   "metadata": {},
   "outputs": [
    {
     "data": {
      "text/plain": [
       "(8144,)"
      ]
     },
     "execution_count": 140,
     "metadata": {},
     "output_type": "execute_result"
    }
   ],
   "source": [
    "pred.shape"
   ]
  },
  {
   "cell_type": "code",
   "execution_count": 31,
   "metadata": {},
   "outputs": [
    {
     "data": {
      "text/plain": [
       "0       10.000000\n",
       "1       10.333333\n",
       "2       10.333333\n",
       "3       10.666667\n",
       "4        9.500000\n",
       "5       10.083333\n",
       "7        9.333333\n",
       "8       10.000000\n",
       "10      10.500000\n",
       "12       9.250000\n",
       "14      10.000000\n",
       "16      10.583333\n",
       "17      10.583333\n",
       "18       9.083333\n",
       "20       9.750000\n",
       "22      10.000000\n",
       "23       9.000000\n",
       "24       9.666667\n",
       "25       9.750000\n",
       "27      10.416667\n",
       "30      10.250000\n",
       "32      10.416667\n",
       "34      10.833333\n",
       "35       9.333333\n",
       "38       9.916667\n",
       "40      10.250000\n",
       "41       9.833333\n",
       "42      10.166667\n",
       "44       9.083333\n",
       "45       9.166667\n",
       "          ...    \n",
       "8092     9.333333\n",
       "8093     9.750000\n",
       "8094    10.583333\n",
       "8096     9.666667\n",
       "8098     9.500000\n",
       "8100     9.250000\n",
       "8101    10.583333\n",
       "8103    10.000000\n",
       "8104    10.166667\n",
       "8107     9.583333\n",
       "8108    10.250000\n",
       "8112     9.000000\n",
       "8113     9.833333\n",
       "8116     9.166667\n",
       "8117    10.833333\n",
       "8118     9.416667\n",
       "8122    10.583333\n",
       "8123     9.000000\n",
       "8124    10.416667\n",
       "8126     9.083333\n",
       "8127     9.416667\n",
       "8128     9.333333\n",
       "8129    10.000000\n",
       "8133    10.333333\n",
       "8136    10.000000\n",
       "8137    10.750000\n",
       "8139    10.833333\n",
       "8141    10.833333\n",
       "8142    10.833333\n",
       "8143    10.333333\n",
       "Name: interview_age, Length: 4249, dtype: float64"
      ]
     },
     "execution_count": 31,
     "metadata": {},
     "output_type": "execute_result"
    }
   ],
   "source": [
    "female/12"
   ]
  },
  {
   "cell_type": "code",
   "execution_count": 85,
   "metadata": {},
   "outputs": [
    {
     "name": "stderr",
     "output_type": "stream",
     "text": [
      "C:\\Program Files (x86)\\Microsoft Visual Studio\\Shared\\Anaconda3_64\\lib\\site-packages\\IPython\\core\\interactiveshell.py:2785: DtypeWarning: Columns (0,1,2,5,9,10,11,12,13,14,15,16,17,18,19,20,21,22,23,24,25,26,27,28,29,30,31,32,33,34,35,36,37,38) have mixed types. Specify dtype option on import or set low_memory=False.\n",
      "  interactivity=interactivity, compiler=compiler, result=result)\n"
     ]
    }
   ],
   "source": [
    "# For features \n",
    "import pandas as pd\n",
    "from functools import reduce\n",
    "\n",
    "demog = pd.read_csv('abcd_ssphp01.csv')\n",
    "allsub_demog = demog[demog.subjectkey.isin(subid) & demog.eventname.isin(['baseline_year_1_arm_1'])]\n",
    "\n",
    "volscores = pd.read_csv('volume_scores.csv')\n",
    "svol = volscores[['subjectkey', 'sri24_suptent_supratentorium_volume']]\n",
    "preds = pd.DataFrame({'subjectkey': subid, 'pred': pred, 'dx': dx, 'features': np.empty(dx.shape[0])}, columns=['subjectkey', 'pred', 'dx', 'features'])\n",
    "fdf = pd.concat([pd.DataFrame(features), pd.DataFrame({'subjectkey': subid}, columns=['subjectkey'])], axis=1)\n",
    "\n",
    "dfs = [allsub_demog, svol, preds, fdf]\n",
    "\n",
    "all_info3 = reduce(lambda left,right: pd.merge(left,right,on='subjectkey'), dfs)\n"
   ]
  },
  {
   "cell_type": "code",
   "execution_count": 186,
   "metadata": {},
   "outputs": [
    {
     "name": "stdout",
     "output_type": "stream",
     "text": [
      "HypothesisTest(p_value=1.0, statistic=6185355.727051117)\n"
     ]
    }
   ],
   "source": [
    "import dcor\n",
    "#a = all_info3.svol\n",
    "np.array([[0, 0], [0, 0]])\n",
    "b = np.array([0, 0]).T\n",
    "print(dcor.independence.distance_covariance_test(allf, all_info3.sri24_suptent_supratentorium_volume))"
   ]
  },
  {
   "cell_type": "code",
   "execution_count": 67,
   "metadata": {},
   "outputs": [],
   "source": [
    "fdf = pd.DataFrame(features)\n",
    "fdf2 = pd.DataFrame({'subjectkey': subid}, columns=['subjectkey'])\n",
    "fdf3 = pd.concat([fdf, fdf2], axis=1)\n",
    "#variables = fdf3[0].keys()\n",
    "#df = pd.DataFrame([[getattr(i,j) for j in variables] for i in fdf3], columns = variables)"
   ]
  },
  {
   "cell_type": "code",
   "execution_count": 73,
   "metadata": {},
   "outputs": [],
   "source": [
    "fdf = pd.concat([pd.DataFrame(features), pd.DataFrame({'subjectkey': subid}, columns=['subjectkey'])], axis=1)"
   ]
  },
  {
   "cell_type": "code",
   "execution_count": 125,
   "metadata": {},
   "outputs": [],
   "source": [
    "from scipy.spatial.distance import pdist, squareform\n",
    "import numpy as np\n",
    "import copy\n",
    "\n",
    "\n",
    "def distcorr(Xval, Yval, pval=True, nruns=500):\n",
    "    \"\"\" Compute the distance correlation function, returning the p-value.\n",
    "    Based on Satra/distcorr.py (gist aa3d19a12b74e9ab7941)\n",
    "    >>> a = [1,2,3,4,5]\n",
    "    >>> b = np.array([1,2,9,4,4])\n",
    "    >>> distcorr(a, b)\n",
    "    (0.76267624241686671, 0.404)\n",
    "    \"\"\"\n",
    "    X = np.atleast_1d(Xval)\n",
    "    Y = np.atleast_1d(Yval)\n",
    "    if np.prod(X.shape) == len(X):\n",
    "        X = X[:, None]\n",
    "    if np.prod(Y.shape) == len(Y):\n",
    "        Y = Y[:, None]\n",
    "    X = np.atleast_2d(X)\n",
    "    Y = np.atleast_2d(Y)\n",
    "    n = X.shape[0]\n",
    "    if Y.shape[0] != X.shape[0]:\n",
    "        raise ValueError('Number of samples must match')\n",
    "    a = squareform(pdist(X))\n",
    "    b = squareform(pdist(Y))\n",
    "    A = a - a.mean(axis=0)[None, :] - a.mean(axis=1)[:, None] + a.mean()\n",
    "    B = b - b.mean(axis=0)[None, :] - b.mean(axis=1)[:, None] + b.mean()\n",
    "\n",
    "    dcov2_xy = (A * B).sum() / float(n * n)\n",
    "    dcov2_xx = (A * A).sum() / float(n * n)\n",
    "    dcov2_yy = (B * B).sum() / float(n * n)\n",
    "    dcorr = np.sqrt(dcov2_xy) / np.sqrt(np.sqrt(dcov2_xx) * np.sqrt(dcov2_yy))\n",
    "\n",
    "    if pval:\n",
    "        greater = 0\n",
    "        for i in range(nruns):\n",
    "            Y_r = copy.copy(Yval)\n",
    "            np.random.shuffle(Y_r)\n",
    "            if distcorr(Xval, Y_r, pval=False) >= dcorr:\n",
    "                greater += 1\n",
    "        return (dcorr, greater / float(nruns))\n",
    "    else:\n",
    "        return dcorr"
   ]
  },
  {
   "cell_type": "code",
   "execution_count": 127,
   "metadata": {},
   "outputs": [
    {
     "name": "stdout",
     "output_type": "stream",
     "text": [
      "(1.0, 1.0)\n"
     ]
    }
   ],
   "source": [
    "a = np.array([[1, 7, 6], [12, -13, 9]])\n",
    "b = np.array([0.1, 5])\n",
    "print(distcorr(a, b))"
   ]
  },
  {
   "cell_type": "code",
   "execution_count": null,
   "metadata": {},
   "outputs": [],
   "source": [
    "allf = np.array(all_info3.loc[:, 'features':])\n",
    "\n",
    "svol_dr, svol_dp = distcorr(allf, all_info3.sri24_suptent_supratentorium_volume, True, 10)\n",
    "print ('SVOL\\t %f\\t %f' % (svol_dr, svol_dp))\n",
    "\n",
    "#age_dr, age_dp = distcorr(allf, pd.to_numeric(all_info.interview_age))\n",
    "#print ('Age\\t %f\\t %f' % (age_dr, age_dp))\n",
    "\n",
    "\n",
    "#pds = np.nan_to_num(pd.to_numeric(all_info.pds_p_ss_male_category)) + np.nan_to_num(pd.to_numeric(all_info.pds_p_ss_female_category))\n",
    "#pds_r, pds_p = pearsonr(pds, all_info.pred)\n",
    "#pdssex_r, pdssex_p = pearsonr(pds, all_info.dx)\n",
    "#pds = pd.to_numeric(all_info.pds_p_ss_male_category)\n",
    "#idx = ~np.isnan(pds)\n",
    "#pdsm_r, pdsm_p = pearsonr(pds[idx], all_info[idx].pred)\n",
    "\n",
    "#pds = pd.to_numeric(all_info.pds_p_ss_female_category)\n",
    "#idx = ~np.isnan(pds)\n",
    "#pdsf_r, pdsf_p = pearsonr(pds[idx], all_info[idx].pred)\n",
    "\n",
    "#print ('SVol\\t %f\\t %f \\nSVol-Sx\\t %f\\t %f \\nAge\\t %f\\t %f \\nPDS\\t %f\\t %f' % (svol_r, svol_p, svolsex_r, svolsex_p, age_r, age_p, pds_r, pds_p))\n",
    "#print ('PDS_M\\t %f\\t %f \\nPDS_F\\t %f\\t %f \\nPDS-SEX\\t %f\\t %f' % (pdsm_r, pdsm_p, pdsf_r, pdsf_p, pdssex_r, pdssex_p))"
   ]
  },
  {
   "cell_type": "code",
   "execution_count": 193,
   "metadata": {},
   "outputs": [
    {
     "name": "stdout",
     "output_type": "stream",
     "text": [
      "0.16241781634632269 3.1370269838170834e-44\n"
     ]
    }
   ],
   "source": [
    "pds = np.nan_to_num(pd.to_numeric(all_info.pds_p_ss_male_category)) + np.nan_to_num(pd.to_numeric(all_info.pds_p_ss_female_category))\n",
    "pds_r, pds_p = pearsonr(pds, all_info.pred)\n",
    "pdsage_r, pdsage_p = pearsonr(pds, pd.to_numeric(all_info.interview_age))\n",
    "print(pdsage_r, pdsage_p)"
   ]
  },
  {
   "cell_type": "code",
   "execution_count": 210,
   "metadata": {},
   "outputs": [
    {
     "data": {
      "text/plain": [
       "108"
      ]
     },
     "execution_count": 210,
     "metadata": {},
     "output_type": "execute_result"
    }
   ],
   "source": [
    "min(pd.to_numeric(all_info[all_info.dx==1].interview_age))"
   ]
  },
  {
   "cell_type": "code",
   "execution_count": 223,
   "metadata": {},
   "outputs": [
    {
     "name": "stdout",
     "output_type": "stream",
     "text": [
      "0.001094015775017081 0.0010929209295735941\n"
     ]
    }
   ],
   "source": [
    "pds = pd.to_numeric(all_info.pds_p_ss_male_category)\n",
    "idx = ~np.isnan(pds)\n",
    "pdsm_r, pdsm_p = pearsonr(pds[idx], all_info[idx].pred)\n",
    "\n",
    "pds = pd.to_numeric(all_info.pds_p_ss_female_category)\n",
    "idx = ~np.isnan(pds)\n",
    "pdsf_r, pdsf_p = pearsonr(pds[idx], all_info[idx].pred)\n",
    "print (pdsf_p, pdsm_p)\n"
   ]
  },
  {
   "cell_type": "code",
   "execution_count": 224,
   "metadata": {},
   "outputs": [
    {
     "data": {
      "text/html": [
       "<div>\n",
       "<style scoped>\n",
       "    .dataframe tbody tr th:only-of-type {\n",
       "        vertical-align: middle;\n",
       "    }\n",
       "\n",
       "    .dataframe tbody tr th {\n",
       "        vertical-align: top;\n",
       "    }\n",
       "\n",
       "    .dataframe thead th {\n",
       "        text-align: right;\n",
       "    }\n",
       "</style>\n",
       "<table border=\"1\" class=\"dataframe\">\n",
       "  <thead>\n",
       "    <tr style=\"text-align: right;\">\n",
       "      <th></th>\n",
       "      <th>collection_id</th>\n",
       "      <th>abcd_ssphp01_id</th>\n",
       "      <th>dataset_id</th>\n",
       "      <th>subjectkey</th>\n",
       "      <th>src_subject_id</th>\n",
       "      <th>interview_age</th>\n",
       "      <th>interview_date</th>\n",
       "      <th>sex</th>\n",
       "      <th>eventname</th>\n",
       "      <th>sds_p_ss_dims</th>\n",
       "      <th>...</th>\n",
       "      <th>4598</th>\n",
       "      <th>4599</th>\n",
       "      <th>4600</th>\n",
       "      <th>4601</th>\n",
       "      <th>4602</th>\n",
       "      <th>4603</th>\n",
       "      <th>4604</th>\n",
       "      <th>4605</th>\n",
       "      <th>4606</th>\n",
       "      <th>4607</th>\n",
       "    </tr>\n",
       "  </thead>\n",
       "  <tbody>\n",
       "    <tr>\n",
       "      <th>0</th>\n",
       "      <td>2573</td>\n",
       "      <td>17600</td>\n",
       "      <td>19331</td>\n",
       "      <td>NDAR_INV2LXFHK41</td>\n",
       "      <td>NDAR_INV2LXFHK41</td>\n",
       "      <td>120</td>\n",
       "      <td>10/2/2017</td>\n",
       "      <td>M</td>\n",
       "      <td>baseline_year_1_arm_1</td>\n",
       "      <td>13</td>\n",
       "      <td>...</td>\n",
       "      <td>-0.049024</td>\n",
       "      <td>-0.065625</td>\n",
       "      <td>-0.054688</td>\n",
       "      <td>-0.052010</td>\n",
       "      <td>-0.082267</td>\n",
       "      <td>-0.043763</td>\n",
       "      <td>-0.212164</td>\n",
       "      <td>0.628517</td>\n",
       "      <td>-0.041066</td>\n",
       "      <td>-0.034146</td>\n",
       "    </tr>\n",
       "    <tr>\n",
       "      <th>1</th>\n",
       "      <td>2573</td>\n",
       "      <td>17708</td>\n",
       "      <td>19331</td>\n",
       "      <td>NDAR_INV2ZAMNE5F</td>\n",
       "      <td>NDAR_INV2ZAMNE5F</td>\n",
       "      <td>124</td>\n",
       "      <td>6/2/2017</td>\n",
       "      <td>M</td>\n",
       "      <td>baseline_year_1_arm_1</td>\n",
       "      <td>9</td>\n",
       "      <td>...</td>\n",
       "      <td>-0.133299</td>\n",
       "      <td>-0.053839</td>\n",
       "      <td>-0.042890</td>\n",
       "      <td>0.355097</td>\n",
       "      <td>-0.053711</td>\n",
       "      <td>-0.042544</td>\n",
       "      <td>1.152500</td>\n",
       "      <td>1.049183</td>\n",
       "      <td>-0.040615</td>\n",
       "      <td>-0.052084</td>\n",
       "    </tr>\n",
       "    <tr>\n",
       "      <th>2</th>\n",
       "      <td>2573</td>\n",
       "      <td>21359</td>\n",
       "      <td>19331</td>\n",
       "      <td>NDAR_INVC5G293GX</td>\n",
       "      <td>NDAR_INVC5G293GX</td>\n",
       "      <td>124</td>\n",
       "      <td>5/6/2018</td>\n",
       "      <td>M</td>\n",
       "      <td>baseline_year_1_arm_1</td>\n",
       "      <td>15</td>\n",
       "      <td>...</td>\n",
       "      <td>-0.049024</td>\n",
       "      <td>-0.065625</td>\n",
       "      <td>-0.054688</td>\n",
       "      <td>-0.052010</td>\n",
       "      <td>-0.082267</td>\n",
       "      <td>-0.043763</td>\n",
       "      <td>0.958606</td>\n",
       "      <td>0.484830</td>\n",
       "      <td>-0.041066</td>\n",
       "      <td>-0.034146</td>\n",
       "    </tr>\n",
       "    <tr>\n",
       "      <th>3</th>\n",
       "      <td>2573</td>\n",
       "      <td>18434</td>\n",
       "      <td>19331</td>\n",
       "      <td>NDAR_INV5V348XPG</td>\n",
       "      <td>NDAR_INV5V348XPG</td>\n",
       "      <td>128</td>\n",
       "      <td>7/6/2017</td>\n",
       "      <td>M</td>\n",
       "      <td>baseline_year_1_arm_1</td>\n",
       "      <td>9</td>\n",
       "      <td>...</td>\n",
       "      <td>-0.049024</td>\n",
       "      <td>-0.065625</td>\n",
       "      <td>-0.054688</td>\n",
       "      <td>-0.052010</td>\n",
       "      <td>-0.082267</td>\n",
       "      <td>-0.043763</td>\n",
       "      <td>0.062650</td>\n",
       "      <td>0.769322</td>\n",
       "      <td>-0.041066</td>\n",
       "      <td>-0.034146</td>\n",
       "    </tr>\n",
       "    <tr>\n",
       "      <th>4</th>\n",
       "      <td>2573</td>\n",
       "      <td>22496</td>\n",
       "      <td>19331</td>\n",
       "      <td>NDAR_INVF76ZR3W2</td>\n",
       "      <td>NDAR_INVF76ZR3W2</td>\n",
       "      <td>121</td>\n",
       "      <td>9/23/2017</td>\n",
       "      <td>M</td>\n",
       "      <td>baseline_year_1_arm_1</td>\n",
       "      <td>12</td>\n",
       "      <td>...</td>\n",
       "      <td>-0.056402</td>\n",
       "      <td>-0.037780</td>\n",
       "      <td>-0.059252</td>\n",
       "      <td>-0.039381</td>\n",
       "      <td>-0.042442</td>\n",
       "      <td>-0.042856</td>\n",
       "      <td>4.446462</td>\n",
       "      <td>-0.045084</td>\n",
       "      <td>1.685373</td>\n",
       "      <td>0.904782</td>\n",
       "    </tr>\n",
       "  </tbody>\n",
       "</table>\n",
       "<p>5 rows × 4652 columns</p>\n",
       "</div>"
      ],
      "text/plain": [
       "  collection_id abcd_ssphp01_id dataset_id        subjectkey  \\\n",
       "0          2573           17600      19331  NDAR_INV2LXFHK41   \n",
       "1          2573           17708      19331  NDAR_INV2ZAMNE5F   \n",
       "2          2573           21359      19331  NDAR_INVC5G293GX   \n",
       "3          2573           18434      19331  NDAR_INV5V348XPG   \n",
       "4          2573           22496      19331  NDAR_INVF76ZR3W2   \n",
       "\n",
       "     src_subject_id interview_age interview_date sex              eventname  \\\n",
       "0  NDAR_INV2LXFHK41           120      10/2/2017   M  baseline_year_1_arm_1   \n",
       "1  NDAR_INV2ZAMNE5F           124       6/2/2017   M  baseline_year_1_arm_1   \n",
       "2  NDAR_INVC5G293GX           124       5/6/2018   M  baseline_year_1_arm_1   \n",
       "3  NDAR_INV5V348XPG           128       7/6/2017   M  baseline_year_1_arm_1   \n",
       "4  NDAR_INVF76ZR3W2           121      9/23/2017   M  baseline_year_1_arm_1   \n",
       "\n",
       "  sds_p_ss_dims    ...         4598      4599      4600      4601      4602  \\\n",
       "0            13    ...    -0.049024 -0.065625 -0.054688 -0.052010 -0.082267   \n",
       "1             9    ...    -0.133299 -0.053839 -0.042890  0.355097 -0.053711   \n",
       "2            15    ...    -0.049024 -0.065625 -0.054688 -0.052010 -0.082267   \n",
       "3             9    ...    -0.049024 -0.065625 -0.054688 -0.052010 -0.082267   \n",
       "4            12    ...    -0.056402 -0.037780 -0.059252 -0.039381 -0.042442   \n",
       "\n",
       "       4603      4604      4605      4606      4607  \n",
       "0 -0.043763 -0.212164  0.628517 -0.041066 -0.034146  \n",
       "1 -0.042544  1.152500  1.049183 -0.040615 -0.052084  \n",
       "2 -0.043763  0.958606  0.484830 -0.041066 -0.034146  \n",
       "3 -0.043763  0.062650  0.769322 -0.041066 -0.034146  \n",
       "4 -0.042856  4.446462 -0.045084  1.685373  0.904782  \n",
       "\n",
       "[5 rows x 4652 columns]"
      ]
     },
     "execution_count": 224,
     "metadata": {},
     "output_type": "execute_result"
    }
   ],
   "source": [
    "all_info3.head()"
   ]
  }
 ],
 "metadata": {
  "kernelspec": {
   "display_name": "Python 3",
   "language": "python",
   "name": "python3"
  },
  "language_info": {
   "codemirror_mode": {
    "name": "ipython",
    "version": 3
   },
   "file_extension": ".py",
   "mimetype": "text/x-python",
   "name": "python",
   "nbconvert_exporter": "python",
   "pygments_lexer": "ipython3",
   "version": "3.7.0"
  }
 },
 "nbformat": 4,
 "nbformat_minor": 2
}
