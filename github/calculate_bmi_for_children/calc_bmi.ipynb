{
 "cells": [
  {
   "cell_type": "code",
   "execution_count": 1,
   "metadata": {},
   "outputs": [],
   "source": [
    "from pygrowup import Calculator\n",
    "from pygrowup import helpers\n",
    "\n",
    "calculator = Calculator(adjust_height_data=False, adjust_weight_scores=False,\n",
    "                       include_cdc=True, logger_name='pygrowup',\n",
    "                       log_level='INFO')"
   ]
  },
  {
   "cell_type": "code",
   "execution_count": 2,
   "metadata": {
    "scrolled": true
   },
   "outputs": [],
   "source": [
    "import numpy as np \n",
    "import pandas as pd\n",
    "from functools import reduce\n",
    "\n",
    "all_subs     = np.array([])\n",
    "\n",
    "for i in range(5):\n",
    "    all_subs = np.concatenate((all_subs, np.genfromtxt('./5cv/subid_' + str(i+1) + '.txt', dtype='str')))\n",
    "    \n",
    "all_bmiinfo = pd.read_csv('./abcd_ant01.csv')\n",
    "all_bmiinfo = all_bmiinfo[all_bmiinfo.subjectkey.isin(all_subs)]\n",
    "\n",
    "all_bmiinfo = all_bmiinfo.sort_values('interview_ageyyy', ascending=True)\n",
    "all_bmiinfo = all_bmiinfo.drop_duplicates(subset='subjectkey', keep='first')\n",
    "\n",
    "dfb = all_bmiinfo[all_bmiinfo['sex']=='M'].dropna(axis=0, subset=['anthroheightcalc', 'anthroweightcalc', 'interview_ageyyy'])\n",
    "dfb['bmi_z'] = dfb.apply(lambda x: calculator.bmifa((float(x['anthroweightcalc']) * 703) / (float(x['anthroheightcalc'])**2), float(x['interview_ageyyy']), 'M'), axis = 1)\n",
    "\n",
    "dfg = all_bmiinfo[all_bmiinfo['sex']=='F'].dropna(axis=0, subset=['anthroheightcalc', 'anthroweightcalc', 'interview_ageyyy'])\n",
    "dfg.drop(6246, axis=0, inplace=True)\n",
    "dfg['bmi_z'] = dfg.apply(lambda x: calculator.bmifa((float(x['anthroweightcalc']) * 703) / (float(x['anthroheightcalc'])**2), float(x['interview_ageyyy']), 'F'), axis = 1)\n"
   ]
  },
  {
   "cell_type": "code",
   "execution_count": 3,
   "metadata": {},
   "outputs": [
    {
     "name": "stdout",
     "output_type": "stream",
     "text": [
      "0.153726 +- 14.111206\n",
      "0.239257 +- 5.639804\n",
      "0.71549557645653505400\n"
     ]
    }
   ],
   "source": [
    "from scipy import stats\n",
    "\n",
    "print ('%f +- %f' % (np.mean(np.array(dfb['bmi_z'], dtype=np.float64)), np.std(np.array(dfb['bmi_z'], dtype=np.float64))))\n",
    "print ('%f +- %f' % (np.mean(np.array(dfg['bmi_z'])), np.std(np.array(dfg['bmi_z']))))\n",
    "[sss, p] = stats.ttest_ind(np.array(dfb['bmi_z'], dtype=np.float64), np.array(dfg['bmi_z'], dtype=np.float64), equal_var = False)\n",
    "\n",
    "print ('%2.20f' % p)"
   ]
  }
 ],
 "metadata": {
  "anaconda-cloud": {},
  "kernelspec": {
   "display_name": "Python 3",
   "language": "python",
   "name": "python3"
  },
  "language_info": {
   "codemirror_mode": {
    "name": "ipython",
    "version": 3
   },
   "file_extension": ".py",
   "mimetype": "text/x-python",
   "name": "python",
   "nbconvert_exporter": "python",
   "pygments_lexer": "ipython3",
   "version": "3.7.0"
  }
 },
 "nbformat": 4,
 "nbformat_minor": 2
}
