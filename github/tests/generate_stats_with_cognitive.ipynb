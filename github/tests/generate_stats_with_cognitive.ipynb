{
 "cells": [
  {
   "cell_type": "code",
   "execution_count": 2,
   "metadata": {},
   "outputs": [],
   "source": [
    "import numpy as np \n",
    "\n",
    "#all_features = np.empty([0, num_features]) # np.array([])\n",
    "#all_subjects = np.array([])\n",
    "#all_pred     = np.array([])\n",
    "#all_dx       = np.array([])\n",
    "\n",
    "all_features = np.loadtxt('features_1.txt')\n",
    "all_subjects = np.genfromtxt('subid_1.txt', dtype='str')\n",
    "#all_dx = np.loadtxt('NewAnalysis_June2019/sex.txt')\n",
    "all_pred = np.loadtxt('pred_1.txt')\n",
    "\n",
    "num_features = all_features.shape[1]"
   ]
  },
  {
   "cell_type": "code",
   "execution_count": 7,
   "metadata": {},
   "outputs": [
    {
     "data": {
      "text/plain": [
       "(8144, 8192)"
      ]
     },
     "execution_count": 7,
     "metadata": {},
     "output_type": "execute_result"
    }
   ],
   "source": [
    "all_features.shape"
   ]
  },
  {
   "cell_type": "code",
   "execution_count": 235,
   "metadata": {},
   "outputs": [
    {
     "name": "stderr",
     "output_type": "stream",
     "text": [
      "C:\\Users\\E31195\\AppData\\Local\\Continuum\\anaconda3\\lib\\site-packages\\IPython\\core\\interactiveshell.py:2785: DtypeWarning: Columns (0,1,2,5,9,10,11,12,13,14,15,16,17,18,19,20,21,22,23,24,25,26,27,28,29,30,31,32,33,34,35,36,37,38) have mixed types. Specify dtype option on import or set low_memory=False.\n",
      "  interactivity=interactivity, compiler=compiler, result=result)\n",
      "C:\\Users\\E31195\\AppData\\Local\\Continuum\\anaconda3\\lib\\site-packages\\IPython\\core\\interactiveshell.py:2785: DtypeWarning: Columns (0,1,2,6,8,9,10,11,12,13,14,15,16,17,18,19,20,21,22,23,24,25,26,27,28,29,30,31,32,33,34,35,36,37,38,39,40,41,42,43,44,45,46,47,48,49,50,51,52,53,54,55,56,57,58,59,60,61,62,63,64,65,66,67,68,69,70,71,72,73,74,75,76,77,78,79,80,81,82,83,84,85,86,87,88,89,90,91,92,93,94,95,96,97,98,99,100,101,102,103,104,105,106,107,108,109,110,111,112,113,114,115,116,117,118,119,120,121,122,123,124,125,126,128,129,130,131) have mixed types. Specify dtype option on import or set low_memory=False.\n",
      "  interactivity=interactivity, compiler=compiler, result=result)\n"
     ]
    }
   ],
   "source": [
    "import pandas as pd\n",
    "from functools import reduce\n",
    "\n",
    "#all_subjects = all_subjects[0:7282]\n",
    "#all_dx = all_dx[0:7282]\n",
    "\n",
    "demog = pd.read_csv('../abcd_ssphp01.csv')\n",
    "all_demog = demog[demog.subjectkey.isin(all_subjects) & demog.eventname.isin(['baseline_year_1_arm_1'])]\n",
    "\n",
    "demog2 = pd.read_csv('../pdem02.csv', encoding = \"ISO-8859-1\")\n",
    "all_demog2 = demog2[demog2.subjectkey.isin(all_subjects)]\n",
    "\n",
    "cogsco = pd.read_csv('../abcd_ps01.csv')\n",
    "all_cogsco = cogsco[cogsco.subjectkey.isin(all_subjects)]\n",
    "\n",
    "nihtbx = pd.read_csv('../abcd_tbss01.csv')\n",
    "all_nihtbx = nihtbx[nihtbx.subjectkey.isin(all_subjects)]\n",
    "\n",
    "nihtbx = pd.read_csv('../cct01.csv')\n",
    "all_cashc = nihtbx[nihtbx.subjectkey.isin(all_subjects)]\n",
    "\n",
    "nihtbx = pd.read_csv('../lmtp201.csv')\n",
    "all_lmt = nihtbx[nihtbx.subjectkey.isin(all_subjects)]\n",
    "\n",
    "#preds = pd.DataFrame({'subjectkey': all_subjects, 'pred': all_pred, 'dx': all_dx, 'features': np.empty(all_dx.shape[0])}, columns=['subjectkey', 'pred', 'dx', 'features'])\n",
    "preds = pd.DataFrame({'subjectkey': all_subjects, 'pred': all_pred, 'features': np.empty(all_pred.shape[0])}, columns=['subjectkey', 'pred', 'features'])\n",
    "fdf = pd.concat([pd.DataFrame(all_features), pd.DataFrame({'subjectkey': all_subjects}, columns=['subjectkey'])], axis=1)\n",
    "\n",
    "\n",
    "dfs = [all_demog, all_demog2, all_cogsco, all_nihtbx, all_cashc, all_lmt, preds, fdf]\n",
    "all_info3 = reduce(lambda left,right: pd.merge(left,right,on='subjectkey'), dfs)"
   ]
  },
  {
   "cell_type": "code",
   "execution_count": 240,
   "metadata": {},
   "outputs": [
    {
     "data": {
      "text/plain": [
       "0       M\n",
       "1       M\n",
       "2       F\n",
       "3       M\n",
       "4       M\n",
       "5       M\n",
       "6       M\n",
       "7       M\n",
       "8       M\n",
       "9       M\n",
       "10      M\n",
       "11      M\n",
       "12      M\n",
       "13      F\n",
       "14      M\n",
       "15      F\n",
       "16      M\n",
       "17      F\n",
       "18      M\n",
       "19      M\n",
       "20      F\n",
       "21      M\n",
       "22      F\n",
       "23      F\n",
       "24      F\n",
       "25      M\n",
       "26      F\n",
       "27      M\n",
       "28      F\n",
       "29      M\n",
       "       ..\n",
       "3824    F\n",
       "3825    M\n",
       "3826    M\n",
       "3827    F\n",
       "3828    F\n",
       "3829    M\n",
       "3830    M\n",
       "3831    F\n",
       "3832    F\n",
       "3833    M\n",
       "3834    F\n",
       "3835    M\n",
       "3836    M\n",
       "3837    F\n",
       "3838    M\n",
       "3839    F\n",
       "3840    M\n",
       "3841    M\n",
       "3842    F\n",
       "3843    F\n",
       "3844    F\n",
       "3845    F\n",
       "3846    F\n",
       "3847    F\n",
       "3848    F\n",
       "3849    F\n",
       "3850    M\n",
       "3851    F\n",
       "3852    M\n",
       "3853    M\n",
       "Name: sex_x, Length: 3854, dtype: object"
      ]
     },
     "execution_count": 240,
     "metadata": {},
     "output_type": "execute_result"
    }
   ],
   "source": [
    "(all_info3.sex_x)"
   ]
  },
  {
   "cell_type": "code",
   "execution_count": 242,
   "metadata": {},
   "outputs": [],
   "source": [
    "from scipy.stats.stats import pearsonr\n",
    "\n",
    "num_features = 8192\n",
    "pds = np.nan_to_num(pd.to_numeric(all_info3.pds_p_ss_male_category)) + np.nan_to_num(pd.to_numeric(all_info3.pds_p_ss_female_category))\n",
    "age = np.nan_to_num(pd.to_numeric(all_info3.interview_age_x))\n",
    "ses = np.nan_to_num(pd.to_numeric(all_info3.demo_prtnr_ed_v2))\n",
    "\n",
    "sexxx = all_info3.sex_x;\n",
    "sex = np.empty([sexxx.shape[0]])\n",
    "for i in range(sex.shape[0]):\n",
    "    if sexxx[i] == 'M':\n",
    "        sex[i]= 0\n",
    "    elif sexxx[i] == 'F':\n",
    "        sex[i]= 1\n",
    "    else:\n",
    "        print ('Sex unknown!')\n",
    "\n",
    "pvals_features_pds = np.empty([num_features])\n",
    "pvals_features_age = np.empty([num_features])\n",
    "pvals_features_ses = np.empty([num_features])\n",
    "pvals_features_sex = np.empty([num_features])\n",
    "\n",
    "# for i in range(num_features):\n",
    "#     pds_r, pvals_features_pds[i] = pearsonr(pds, all_info3.iloc[:,i+174])\n",
    "#     age_r, pvals_features_age[i] = pearsonr(age, all_info3.iloc[:,i+174])\n",
    "#     ses_r, pvals_features_ses[i] = pearsonr(ses, all_info3.iloc[:,i+174])\n",
    "#     sex_r, pvals_features_sex[i] = pearsonr(sex, all_info3.iloc[:,i+174])"
   ]
  },
  {
   "cell_type": "code",
   "execution_count": 13,
   "metadata": {},
   "outputs": [],
   "source": [
    "np.savetxt('pds_feat.txt', pvals_features_pds < 0.005, fmt='%d')\n",
    "np.savetxt('age_feat.txt', pvals_features_age < 0.005, fmt='%d')\n",
    "np.savetxt('ses_feat.txt', pvals_features_ses < 0.005, fmt='%d')\n",
    "\n",
    "np.savetxt('all_sex.txt', sex, fmt='%d')"
   ]
  },
  {
   "cell_type": "code",
   "execution_count": 14,
   "metadata": {},
   "outputs": [
    {
     "data": {
      "text/plain": [
       "1149"
      ]
     },
     "execution_count": 14,
     "metadata": {},
     "output_type": "execute_result"
    }
   ],
   "source": [
    "sum(pvals_features_pds < 0.005)"
   ]
  },
  {
   "cell_type": "code",
   "execution_count": 15,
   "metadata": {},
   "outputs": [
    {
     "data": {
      "text/plain": [
       "1670"
      ]
     },
     "execution_count": 15,
     "metadata": {},
     "output_type": "execute_result"
    }
   ],
   "source": [
    "sum(pvals_features_sex < 0.005)"
   ]
  },
  {
   "cell_type": "code",
   "execution_count": 16,
   "metadata": {},
   "outputs": [
    {
     "data": {
      "text/plain": [
       "550"
      ]
     },
     "execution_count": 16,
     "metadata": {},
     "output_type": "execute_result"
    }
   ],
   "source": [
    "sum(pvals_features_age < 0.005)"
   ]
  },
  {
   "cell_type": "code",
   "execution_count": 17,
   "metadata": {},
   "outputs": [
    {
     "data": {
      "text/plain": [
       "74"
      ]
     },
     "execution_count": 17,
     "metadata": {},
     "output_type": "execute_result"
    }
   ],
   "source": [
    "sum(pvals_features_ses < 0.005)"
   ]
  },
  {
   "cell_type": "code",
   "execution_count": 5,
   "metadata": {},
   "outputs": [
    {
     "ename": "NameError",
     "evalue": "name 'pd' is not defined",
     "output_type": "error",
     "traceback": [
      "\u001b[1;31m---------------------------------------------------------------------------\u001b[0m",
      "\u001b[1;31mNameError\u001b[0m                                 Traceback (most recent call last)",
      "\u001b[1;32m<ipython-input-5-c044c1dba1ea>\u001b[0m in \u001b[0;36m<module>\u001b[1;34m()\u001b[0m\n\u001b[1;32m----> 1\u001b[1;33m \u001b[0mvolums_scores\u001b[0m \u001b[1;33m=\u001b[0m \u001b[0mpd\u001b[0m\u001b[1;33m.\u001b[0m\u001b[0mread_csv\u001b[0m\u001b[1;33m(\u001b[0m\u001b[1;34m'../all_vol_scores.csv'\u001b[0m\u001b[1;33m)\u001b[0m\u001b[1;33m\u001b[0m\u001b[0m\n\u001b[0m\u001b[0;32m      2\u001b[0m \u001b[0mall_vol\u001b[0m \u001b[1;33m=\u001b[0m \u001b[0mvolums_scores\u001b[0m\u001b[1;33m[\u001b[0m\u001b[0mvolums_scores\u001b[0m\u001b[1;33m.\u001b[0m\u001b[0msubjectkey\u001b[0m\u001b[1;33m.\u001b[0m\u001b[0misin\u001b[0m\u001b[1;33m(\u001b[0m\u001b[0mall_subjects\u001b[0m\u001b[1;33m)\u001b[0m\u001b[1;33m]\u001b[0m\u001b[1;33m\u001b[0m\u001b[0m\n",
      "\u001b[1;31mNameError\u001b[0m: name 'pd' is not defined"
     ]
    }
   ],
   "source": [
    "volums_scores = pd.read_csv('../all_vol_scores.csv')\n",
    "all_vol = volums_scores[volums_scores.subjectkey.isin(all_subjects)]"
   ]
  },
  {
   "cell_type": "code",
   "execution_count": 67,
   "metadata": {},
   "outputs": [],
   "source": [
    "dfs2 = [all_info3, all_vol]\n",
    "all_info4 = reduce(lambda left,right: pd.merge(left,right,on='subjectkey'), dfs2)"
   ]
  },
  {
   "cell_type": "code",
   "execution_count": 96,
   "metadata": {},
   "outputs": [],
   "source": [
    "sexxx = all_info3.sex_x;\n",
    "sex = np.empty([all_info3.shape[0]])\n",
    "for i in range(sex.shape[0]):\n",
    "    if sexxx[i] == 'M':\n",
    "        sex[i]= 0\n",
    "    elif sexxx[i] == 'F':\n",
    "        sex[i]= 1\n",
    "    else:\n",
    "        print ('Sex unknown!')"
   ]
  },
  {
   "cell_type": "code",
   "execution_count": 95,
   "metadata": {},
   "outputs": [
    {
     "data": {
      "text/plain": [
       "(3856, 8666)"
      ]
     },
     "execution_count": 95,
     "metadata": {},
     "output_type": "execute_result"
    }
   ],
   "source": [
    "all_info4.shape"
   ]
  },
  {
   "cell_type": "code",
   "execution_count": 26,
   "metadata": {},
   "outputs": [],
   "source": [
    "import matplotlib.pyplot as plt\n",
    "from mpl_toolkits.mplot3d import Axes3D\n",
    "import seaborn as sns\n",
    "import matplotlib as mpl \n",
    "\n",
    "import matplotlib.pyplot as plt \n",
    "from scipy import stats"
   ]
  },
  {
   "cell_type": "code",
   "execution_count": 158,
   "metadata": {},
   "outputs": [
    {
     "name": "stdout",
     "output_type": "stream",
     "text": [
      "pea_ravlt_sd_trial_iv_tc\n"
     ]
    },
    {
     "name": "stderr",
     "output_type": "stream",
     "text": [
      "C:\\Users\\E31195\\AppData\\Local\\Continuum\\anaconda3\\lib\\site-packages\\scipy\\stats\\stats.py:245: RuntimeWarning: The input array could not be properly checked for nan values. nan values will be ignored.\n",
      "  \"values. nan values will be ignored.\", RuntimeWarning)\n"
     ]
    },
    {
     "ename": "TypeError",
     "evalue": "can only concatenate str (not \"float\") to str",
     "output_type": "error",
     "traceback": [
      "\u001b[1;31m---------------------------------------------------------------------------\u001b[0m",
      "\u001b[1;31mTypeError\u001b[0m                                 Traceback (most recent call last)",
      "\u001b[1;32m<ipython-input-158-2b01e79e5b97>\u001b[0m in \u001b[0;36m<module>\u001b[1;34m()\u001b[0m\n\u001b[0;32m     20\u001b[0m         \u001b[0mf\u001b[0m \u001b[1;33m=\u001b[0m \u001b[0mall_info4\u001b[0m\u001b[1;33m[\u001b[0m\u001b[0ms\u001b[0m\u001b[1;33m]\u001b[0m\u001b[1;33m[\u001b[0m\u001b[0msex\u001b[0m\u001b[1;33m==\u001b[0m\u001b[1;36m1\u001b[0m\u001b[1;33m]\u001b[0m\u001b[1;33m\u001b[0m\u001b[0m\n\u001b[0;32m     21\u001b[0m         \u001b[0mm\u001b[0m \u001b[1;33m=\u001b[0m \u001b[0mall_info4\u001b[0m\u001b[1;33m[\u001b[0m\u001b[0ms\u001b[0m\u001b[1;33m]\u001b[0m\u001b[1;33m[\u001b[0m\u001b[0msex\u001b[0m\u001b[1;33m==\u001b[0m\u001b[1;36m0\u001b[0m\u001b[1;33m]\u001b[0m\u001b[1;33m\u001b[0m\u001b[0m\n\u001b[1;32m---> 22\u001b[1;33m         \u001b[1;33m[\u001b[0m\u001b[0mss\u001b[0m\u001b[1;33m,\u001b[0m \u001b[0mp\u001b[0m\u001b[1;33m]\u001b[0m \u001b[1;33m=\u001b[0m \u001b[0mstats\u001b[0m\u001b[1;33m.\u001b[0m\u001b[0mttest_ind\u001b[0m\u001b[1;33m(\u001b[0m\u001b[0mf\u001b[0m\u001b[1;33m,\u001b[0m \u001b[0mm\u001b[0m\u001b[1;33m)\u001b[0m\u001b[1;33m\u001b[0m\u001b[0m\n\u001b[0m\u001b[0;32m     23\u001b[0m         \u001b[0mprint\u001b[0m \u001b[1;33m(\u001b[0m\u001b[1;34m'f = %.2f +/- %.2f\\nm = %.2f +/- %.2f\\np = %.10f'\u001b[0m \u001b[1;33m%\u001b[0m \u001b[1;33m(\u001b[0m\u001b[0mnp\u001b[0m\u001b[1;33m.\u001b[0m\u001b[0mmean\u001b[0m\u001b[1;33m(\u001b[0m\u001b[0mf\u001b[0m\u001b[1;33m)\u001b[0m\u001b[1;33m,\u001b[0m \u001b[0mnp\u001b[0m\u001b[1;33m.\u001b[0m\u001b[0mstd\u001b[0m\u001b[1;33m(\u001b[0m\u001b[0mf\u001b[0m\u001b[1;33m)\u001b[0m\u001b[1;33m,\u001b[0m \u001b[0mnp\u001b[0m\u001b[1;33m.\u001b[0m\u001b[0mmean\u001b[0m\u001b[1;33m(\u001b[0m\u001b[0mm\u001b[0m\u001b[1;33m)\u001b[0m\u001b[1;33m,\u001b[0m \u001b[0mnp\u001b[0m\u001b[1;33m.\u001b[0m\u001b[0mstd\u001b[0m\u001b[1;33m(\u001b[0m\u001b[0mm\u001b[0m\u001b[1;33m)\u001b[0m\u001b[1;33m,\u001b[0m \u001b[0mp\u001b[0m\u001b[1;33m)\u001b[0m\u001b[1;33m)\u001b[0m\u001b[1;33m\u001b[0m\u001b[0m\n\u001b[0;32m     24\u001b[0m \u001b[1;33m\u001b[0m\u001b[0m\n",
      "\u001b[1;32m~\\AppData\\Local\\Continuum\\anaconda3\\lib\\site-packages\\scipy\\stats\\stats.py\u001b[0m in \u001b[0;36mttest_ind\u001b[1;34m(a, b, axis, equal_var, nan_policy)\u001b[0m\n\u001b[0;32m   4078\u001b[0m         \u001b[1;32mreturn\u001b[0m \u001b[0mTtest_indResult\u001b[0m\u001b[1;33m(\u001b[0m\u001b[0mnp\u001b[0m\u001b[1;33m.\u001b[0m\u001b[0mnan\u001b[0m\u001b[1;33m,\u001b[0m \u001b[0mnp\u001b[0m\u001b[1;33m.\u001b[0m\u001b[0mnan\u001b[0m\u001b[1;33m)\u001b[0m\u001b[1;33m\u001b[0m\u001b[0m\n\u001b[0;32m   4079\u001b[0m \u001b[1;33m\u001b[0m\u001b[0m\n\u001b[1;32m-> 4080\u001b[1;33m     \u001b[0mv1\u001b[0m \u001b[1;33m=\u001b[0m \u001b[0mnp\u001b[0m\u001b[1;33m.\u001b[0m\u001b[0mvar\u001b[0m\u001b[1;33m(\u001b[0m\u001b[0ma\u001b[0m\u001b[1;33m,\u001b[0m \u001b[0maxis\u001b[0m\u001b[1;33m,\u001b[0m \u001b[0mddof\u001b[0m\u001b[1;33m=\u001b[0m\u001b[1;36m1\u001b[0m\u001b[1;33m)\u001b[0m\u001b[1;33m\u001b[0m\u001b[0m\n\u001b[0m\u001b[0;32m   4081\u001b[0m     \u001b[0mv2\u001b[0m \u001b[1;33m=\u001b[0m \u001b[0mnp\u001b[0m\u001b[1;33m.\u001b[0m\u001b[0mvar\u001b[0m\u001b[1;33m(\u001b[0m\u001b[0mb\u001b[0m\u001b[1;33m,\u001b[0m \u001b[0maxis\u001b[0m\u001b[1;33m,\u001b[0m \u001b[0mddof\u001b[0m\u001b[1;33m=\u001b[0m\u001b[1;36m1\u001b[0m\u001b[1;33m)\u001b[0m\u001b[1;33m\u001b[0m\u001b[0m\n\u001b[0;32m   4082\u001b[0m     \u001b[0mn1\u001b[0m \u001b[1;33m=\u001b[0m \u001b[0ma\u001b[0m\u001b[1;33m.\u001b[0m\u001b[0mshape\u001b[0m\u001b[1;33m[\u001b[0m\u001b[0maxis\u001b[0m\u001b[1;33m]\u001b[0m\u001b[1;33m\u001b[0m\u001b[0m\n",
      "\u001b[1;32m~\\AppData\\Local\\Continuum\\anaconda3\\lib\\site-packages\\numpy\\core\\fromnumeric.py\u001b[0m in \u001b[0;36mvar\u001b[1;34m(a, axis, dtype, out, ddof, keepdims)\u001b[0m\n\u001b[0;32m   3155\u001b[0m \u001b[1;33m\u001b[0m\u001b[0m\n\u001b[0;32m   3156\u001b[0m     return _methods._var(a, axis=axis, dtype=dtype, out=out, ddof=ddof,\n\u001b[1;32m-> 3157\u001b[1;33m                          **kwargs)\n\u001b[0m\u001b[0;32m   3158\u001b[0m \u001b[1;33m\u001b[0m\u001b[0m\n\u001b[0;32m   3159\u001b[0m \u001b[1;33m\u001b[0m\u001b[0m\n",
      "\u001b[1;32m~\\AppData\\Local\\Continuum\\anaconda3\\lib\\site-packages\\numpy\\core\\_methods.py\u001b[0m in \u001b[0;36m_var\u001b[1;34m(a, axis, dtype, out, ddof, keepdims)\u001b[0m\n\u001b[0;32m    105\u001b[0m     \u001b[1;31m# Note that if dtype is not of inexact type then arraymean will\u001b[0m\u001b[1;33m\u001b[0m\u001b[1;33m\u001b[0m\u001b[0m\n\u001b[0;32m    106\u001b[0m     \u001b[1;31m# not be either.\u001b[0m\u001b[1;33m\u001b[0m\u001b[1;33m\u001b[0m\u001b[0m\n\u001b[1;32m--> 107\u001b[1;33m     \u001b[0marrmean\u001b[0m \u001b[1;33m=\u001b[0m \u001b[0mumr_sum\u001b[0m\u001b[1;33m(\u001b[0m\u001b[0marr\u001b[0m\u001b[1;33m,\u001b[0m \u001b[0maxis\u001b[0m\u001b[1;33m,\u001b[0m \u001b[0mdtype\u001b[0m\u001b[1;33m,\u001b[0m \u001b[0mkeepdims\u001b[0m\u001b[1;33m=\u001b[0m\u001b[1;32mTrue\u001b[0m\u001b[1;33m)\u001b[0m\u001b[1;33m\u001b[0m\u001b[0m\n\u001b[0m\u001b[0;32m    108\u001b[0m     \u001b[1;32mif\u001b[0m \u001b[0misinstance\u001b[0m\u001b[1;33m(\u001b[0m\u001b[0marrmean\u001b[0m\u001b[1;33m,\u001b[0m \u001b[0mmu\u001b[0m\u001b[1;33m.\u001b[0m\u001b[0mndarray\u001b[0m\u001b[1;33m)\u001b[0m\u001b[1;33m:\u001b[0m\u001b[1;33m\u001b[0m\u001b[0m\n\u001b[0;32m    109\u001b[0m         arrmean = um.true_divide(\n",
      "\u001b[1;31mTypeError\u001b[0m: can only concatenate str (not \"float\") to str"
     ]
    }
   ],
   "source": [
    "from scipy import stats\n",
    "import dcor\n",
    "\n",
    "#region_name = 'pallidum'\n",
    "#region_name = 'amygdala'\n",
    "#region_name = 'cerebelum'\n",
    "region_name = 'putamen'\n",
    "\n",
    "scatter_plot = False\n",
    "\n",
    "i = 0\n",
    "females = np.zeros(sum(sex==1))\n",
    "males = np.zeros(sum(sex==0))\n",
    "fv = np.zeros([2, sum(sex==1)])\n",
    "mv = np.zeros([2, sum(sex==0)])\n",
    "\n",
    "for s in all_info4.columns[8366:]:\n",
    "    if region_name.lower() in s.lower():\n",
    "        print (s)\n",
    "        f = all_info4[s][sex==1]\n",
    "        m = all_info4[s][sex==0]\n",
    "        [ss, p] = stats.ttest_ind(f, m)\n",
    "        print ('f = %.2f +/- %.2f\\nm = %.2f +/- %.2f\\np = %.10f' % (np.mean(f), np.std(f), np.mean(m), np.std(m), p))\n",
    "        \n",
    "        fv[:][i] = f\n",
    "        mv[:][i] = m\n",
    "\n",
    "        females = females + f\n",
    "        males = males + m\n",
    "        \n",
    "        i+=1\n",
    "        \n",
    "females = females / 2\n",
    "males = males / 2\n",
    "\n",
    "[ss, p] = stats.ttest_ind(females, males)\n",
    "print ('f = %.2f +/- %.2f\\nm = %.2f +/- %.2f\\np = %.10f' % (np.mean(females), np.std(females), np.mean(males), np.std(males), p))\n"
   ]
  },
  {
   "cell_type": "code",
   "execution_count": 154,
   "metadata": {},
   "outputs": [
    {
     "data": {
      "text/plain": [
       "8014"
      ]
     },
     "execution_count": 154,
     "metadata": {},
     "output_type": "execute_result"
    }
   ],
   "source": [
    "s"
   ]
  },
  {
   "cell_type": "code",
   "execution_count": null,
   "metadata": {},
   "outputs": [],
   "source": [
    "#[ss, p] = dcor.distance_correlation(fv, mv)\n",
    "\n",
    "#         std = np.sqrt((females.var(ddof=1) + males.var(ddof=1)) / 2)\n",
    "#         t = (females.mean() - males.mean() / (std * np.sqrt(2/(all_info3.shape[0]/2))))\n",
    "#         df = all_info3.shape[0] - 2\n",
    "#         pval = 1 - stats.t.cdf(t,df=df)\n",
    "#         if (scatter_plot):\n",
    "#             fig1 = plt.figure(i+1, figsize=(9, 6))\n",
    "#             #fig1, ax = plt.subplots()\n",
    "#             plt.plot(np.ones(sum(sex==1))+np.random.rand(sum(sex==1))-0.4, all_info4[s][sex==1] , '.', c='firebrick', label='Female')\n",
    "#             plt.plot(np.zeros(sum(sex==0))+np.random.rand(sum(sex==0))-0.6, all_info4[s][sex==0], '.', c='steelblue', label='Male')\n",
    "#             plt.xticks(np.arange(0), ())\n",
    "#             plt.yticks(np.arange(0), ())\n",
    "#             plt.title(s)\n",
    "#             plt.legend(loc='best', shadow=True);\n",
    "#             fig1.show()\n",
    "#             #fig.savefig('tsne_features_2d.eps', format='eps', dpi=300)\n",
    "#             #fig.savefig('tsne_features_2d.jpg', format='jpg', dpi=300)\n",
    "#         else:\n",
    "#             ## combine these different collections into a list    \n",
    "#             data_to_plot = [females, males]\n",
    "#             fig2 = plt.figure(i+1, figsize=(9, 6))\n",
    "#             #ax2 = fig2.add_subplot(211+i)\n",
    "#             bp = plt.boxplot(data_to_plot, notch=True)\n",
    "#             plt.xticks([1, 2], ['Female', 'Male'])\n",
    "#             plt.title(s + (' (pval = %f)' % pval))\n",
    "#             #fig.savefig('fig1.png', bbox_inches='tight')\n",
    "#        i+=1\n",
    "        "
   ]
  },
  {
   "cell_type": "code",
   "execution_count": 152,
   "metadata": {},
   "outputs": [
    {
     "data": {
      "text/plain": [
       "1126.66"
      ]
     },
     "execution_count": 152,
     "metadata": {},
     "output_type": "execute_result"
    }
   ],
   "source": [
    "all_info4['sri24_parc116_amygdala_l_gm'][100]"
   ]
  },
  {
   "cell_type": "code",
   "execution_count": 169,
   "metadata": {},
   "outputs": [
    {
     "data": {
      "text/plain": [
       "array([0.22564856, 0.58541287, 0.59424361, ..., 0.11555681, 0.07159877,\n",
       "       0.94751611])"
      ]
     },
     "execution_count": 169,
     "metadata": {},
     "output_type": "execute_result"
    }
   ],
   "source": [
    "np.random.rand(sum(sex==1))"
   ]
  },
  {
   "cell_type": "code",
   "execution_count": 176,
   "metadata": {},
   "outputs": [
    {
     "data": {
      "image/png": "[encoded data removed]",
      "text/plain": [
       "<Figure size 648x432 with 1 Axes>"
      ]
     },
     "metadata": {
      "needs_background": "light"
     },
     "output_type": "display_data"
    }
   ],
   "source": [
    "import numpy as np \n",
    "import matplotlib as mpl \n",
    "\n",
    "import matplotlib.pyplot as plt \n",
    "\n",
    "## Create data\n",
    "np.random.seed(10)\n",
    "collectn_1 = np.random.normal(100, 10, 250)\n",
    "collectn_2 = np.random.normal(80, 30, 200)\n",
    "collectn_3 = np.random.normal(90, 20, 200)\n",
    "collectn_4 = np.random.normal(70, 25, 200)\n",
    "\n",
    "## combine these different collections into a list    \n",
    "data_to_plot = [collectn_1, collectn_2, collectn_3, collectn_4]\n",
    "\n",
    "# Create a figure instance\n",
    "fig = plt.figure(1, figsize=(9, 6))\n",
    "\n",
    "# Create an axes instance\n",
    "ax = fig.add_subplot(111)\n",
    "\n",
    "# Create the boxplot\n",
    "bp = ax.boxplot(data_to_plot, notch=True)\n",
    "\n",
    "# Save the figure\n",
    "fig.savefig('fig1.png', bbox_inches='tight')"
   ]
  },
  {
   "cell_type": "code",
   "execution_count": 72,
   "metadata": {
    "scrolled": true
   },
   "outputs": [
    {
     "data": {
      "text/plain": [
       "0        12\n",
       "1        15\n",
       "2        13\n",
       "3         8\n",
       "4        11\n",
       "5         9\n",
       "6        11\n",
       "7        14\n",
       "8        13\n",
       "9        10\n",
       "10       12\n",
       "11        8\n",
       "12        9\n",
       "13       12\n",
       "14       12\n",
       "15       12\n",
       "16       15\n",
       "17       12\n",
       "18       15\n",
       "19        9\n",
       "20       12\n",
       "21       10\n",
       "22       14\n",
       "23        9\n",
       "24       13\n",
       "25       14\n",
       "26       12\n",
       "27       10\n",
       "28       14\n",
       "29       13\n",
       "       ... \n",
       "3826     14\n",
       "3827     10\n",
       "3828     10\n",
       "3829      9\n",
       "3830     13\n",
       "3831     10\n",
       "3832     14\n",
       "3833      8\n",
       "3834     10\n",
       "3835     11\n",
       "3836     10\n",
       "3837     11\n",
       "3838     10\n",
       "3839     12\n",
       "3840     10\n",
       "3841    NaN\n",
       "3842      8\n",
       "3843     11\n",
       "3844      9\n",
       "3845      6\n",
       "3846     12\n",
       "3847     11\n",
       "3848     11\n",
       "3849     13\n",
       "3850     11\n",
       "3851     15\n",
       "3852     10\n",
       "3853     10\n",
       "3854     12\n",
       "3855      9\n",
       "Name: pea_ravlt_sd_trial_iv_tc, Length: 3856, dtype: object"
      ]
     },
     "execution_count": 72,
     "metadata": {},
     "output_type": "execute_result"
    }
   ],
   "source": [
    "all_info4['pea_ravlt_sd_trial_iv_tc']"
   ]
  },
  {
   "cell_type": "code",
   "execution_count": 4,
   "metadata": {},
   "outputs": [
    {
     "ename": "NameError",
     "evalue": "name 'all_info4' is not defined",
     "output_type": "error",
     "traceback": [
      "\u001b[1;31m---------------------------------------------------------------------------\u001b[0m",
      "\u001b[1;31mNameError\u001b[0m                                 Traceback (most recent call last)",
      "\u001b[1;32m<ipython-input-4-e33dd330f765>\u001b[0m in \u001b[0;36m<module>\u001b[1;34m()\u001b[0m\n\u001b[0;32m      1\u001b[0m \u001b[0mnamee\u001b[0m \u001b[1;33m=\u001b[0m \u001b[1;34m'hippocampus'\u001b[0m\u001b[1;33m\u001b[0m\u001b[0m\n\u001b[1;32m----> 2\u001b[1;33m \u001b[1;32mfor\u001b[0m \u001b[0ms\u001b[0m \u001b[1;32min\u001b[0m \u001b[0mall_info4\u001b[0m\u001b[1;33m.\u001b[0m\u001b[0mcolumns\u001b[0m\u001b[1;33m[\u001b[0m\u001b[1;33m:\u001b[0m\u001b[1;33m]\u001b[0m\u001b[1;33m:\u001b[0m\u001b[1;33m\u001b[0m\u001b[0m\n\u001b[0m\u001b[0;32m      3\u001b[0m     \u001b[1;32mif\u001b[0m \u001b[0misinstance\u001b[0m\u001b[1;33m(\u001b[0m\u001b[0ms\u001b[0m\u001b[1;33m,\u001b[0m \u001b[0mstr\u001b[0m\u001b[1;33m)\u001b[0m \u001b[1;32mand\u001b[0m \u001b[0mnamee\u001b[0m\u001b[1;33m.\u001b[0m\u001b[0mlower\u001b[0m\u001b[1;33m(\u001b[0m\u001b[1;33m)\u001b[0m \u001b[1;32min\u001b[0m \u001b[0ms\u001b[0m\u001b[1;33m.\u001b[0m\u001b[0mlower\u001b[0m\u001b[1;33m(\u001b[0m\u001b[1;33m)\u001b[0m\u001b[1;33m:\u001b[0m\u001b[1;33m\u001b[0m\u001b[0m\n\u001b[0;32m      4\u001b[0m         \u001b[0mprint\u001b[0m \u001b[1;33m(\u001b[0m\u001b[0ms\u001b[0m\u001b[1;33m)\u001b[0m\u001b[1;33m\u001b[0m\u001b[0m\n",
      "\u001b[1;31mNameError\u001b[0m: name 'all_info4' is not defined"
     ]
    }
   ],
   "source": [
    "namee = 'hippocampus'\n",
    "for s in all_info4.columns[:]:\n",
    "    if isinstance(s, str) and namee.lower() in s.lower():\n",
    "        print (s)"
   ]
  },
  {
   "cell_type": "code",
   "execution_count": 159,
   "metadata": {},
   "outputs": [
    {
     "ename": "IndexError",
     "evalue": "boolean index did not match indexed array along dimension 0; dimension is 8144 but corresponding boolean dimension is 3856",
     "output_type": "error",
     "traceback": [
      "\u001b[1;31m---------------------------------------------------------------------------\u001b[0m",
      "\u001b[1;31mIndexError\u001b[0m                                Traceback (most recent call last)",
      "\u001b[1;32m<ipython-input-159-32f6dc2f9052>\u001b[0m in \u001b[0;36m<module>\u001b[1;34m()\u001b[0m\n\u001b[0;32m      1\u001b[0m \u001b[1;32mfrom\u001b[0m \u001b[0mscipy\u001b[0m \u001b[1;32mimport\u001b[0m \u001b[0mstats\u001b[0m\u001b[1;33m\u001b[0m\u001b[0m\n\u001b[0;32m      2\u001b[0m \u001b[1;33m\u001b[0m\u001b[0m\n\u001b[1;32m----> 3\u001b[1;33m \u001b[1;33m[\u001b[0m\u001b[0ms\u001b[0m\u001b[1;33m,\u001b[0m \u001b[0mp\u001b[0m\u001b[1;33m]\u001b[0m \u001b[1;33m=\u001b[0m \u001b[0mstats\u001b[0m\u001b[1;33m.\u001b[0m\u001b[0mttest_ind\u001b[0m\u001b[1;33m(\u001b[0m\u001b[0mpds\u001b[0m\u001b[1;33m[\u001b[0m\u001b[0msex\u001b[0m\u001b[1;33m==\u001b[0m\u001b[1;36m0\u001b[0m\u001b[1;33m]\u001b[0m\u001b[1;33m,\u001b[0m \u001b[0mpds\u001b[0m\u001b[1;33m[\u001b[0m\u001b[0msex\u001b[0m\u001b[1;33m==\u001b[0m\u001b[1;36m1\u001b[0m\u001b[1;33m]\u001b[0m\u001b[1;33m)\u001b[0m\u001b[1;33m\u001b[0m\u001b[0m\n\u001b[0m\u001b[0;32m      4\u001b[0m \u001b[0mprint\u001b[0m \u001b[1;33m(\u001b[0m\u001b[1;34m'%2.20f'\u001b[0m \u001b[1;33m%\u001b[0m \u001b[0mp\u001b[0m\u001b[1;33m)\u001b[0m\u001b[1;33m\u001b[0m\u001b[0m\n",
      "\u001b[1;31mIndexError\u001b[0m: boolean index did not match indexed array along dimension 0; dimension is 8144 but corresponding boolean dimension is 3856"
     ]
    }
   ],
   "source": [
    "from scipy import stats\n",
    "\n",
    "[s, p] = stats.ttest_ind(pds[sex==0], pds[sex==1])\n",
    "print ('%2.20f' % p)"
   ]
  },
  {
   "cell_type": "code",
   "execution_count": 249,
   "metadata": {},
   "outputs": [
    {
     "data": {
      "text/plain": [
       "array([2., 2., 1., ..., 1., 2., 1.])"
      ]
     },
     "execution_count": 249,
     "metadata": {},
     "output_type": "execute_result"
    }
   ],
   "source": [
    "a"
   ]
  },
  {
   "cell_type": "code",
   "execution_count": 1,
   "metadata": {},
   "outputs": [
    {
     "ename": "NameError",
     "evalue": "name 'np' is not defined",
     "output_type": "error",
     "traceback": [
      "\u001b[1;31m---------------------------------------------------------------------------\u001b[0m",
      "\u001b[1;31mNameError\u001b[0m                                 Traceback (most recent call last)",
      "\u001b[1;32m<ipython-input-1-63e4297544aa>\u001b[0m in \u001b[0;36m<module>\u001b[1;34m()\u001b[0m\n\u001b[1;32m----> 1\u001b[1;33m \u001b[0maaa\u001b[0m \u001b[1;33m=\u001b[0m \u001b[0mnp\u001b[0m\u001b[1;33m.\u001b[0m\u001b[0mnan_to_num\u001b[0m\u001b[1;33m(\u001b[0m\u001b[0mpd\u001b[0m\u001b[1;33m.\u001b[0m\u001b[0mto_numeric\u001b[0m\u001b[1;33m(\u001b[0m\u001b[0mall_info3\u001b[0m\u001b[1;33m.\u001b[0m\u001b[0mpea_wiscv_trs\u001b[0m\u001b[1;33m)\u001b[0m\u001b[1;33m)\u001b[0m\u001b[1;33m\u001b[0m\u001b[0m\n\u001b[0m\u001b[0;32m      2\u001b[0m \u001b[1;33m\u001b[0m\u001b[0m\n\u001b[0;32m      3\u001b[0m \u001b[0ma\u001b[0m \u001b[1;33m=\u001b[0m \u001b[0maaa\u001b[0m\u001b[1;33m[\u001b[0m\u001b[0msex\u001b[0m\u001b[1;33m==\u001b[0m\u001b[1;36m1\u001b[0m\u001b[1;33m]\u001b[0m\u001b[1;33m\u001b[0m\u001b[0m\n\u001b[0;32m      4\u001b[0m \u001b[0mprint\u001b[0m\u001b[1;33m(\u001b[0m\u001b[0mnp\u001b[0m\u001b[1;33m.\u001b[0m\u001b[0mmean\u001b[0m\u001b[1;33m(\u001b[0m\u001b[0ma\u001b[0m\u001b[1;33m)\u001b[0m\u001b[1;33m,\u001b[0m \u001b[0mnp\u001b[0m\u001b[1;33m.\u001b[0m\u001b[0mstd\u001b[0m\u001b[1;33m(\u001b[0m\u001b[0ma\u001b[0m\u001b[1;33m)\u001b[0m\u001b[1;33m)\u001b[0m\u001b[1;33m\u001b[0m\u001b[0m\n\u001b[0;32m      5\u001b[0m \u001b[1;33m\u001b[0m\u001b[0m\n",
      "\u001b[1;31mNameError\u001b[0m: name 'np' is not defined"
     ]
    }
   ],
   "source": [
    "aaa = np.nan_to_num(pd.to_numeric(all_info3.pea_wiscv_trs))\n",
    "\n",
    "a = aaa[sex==1]\n",
    "print(np.mean(a), np.std(a))\n",
    "\n",
    "b = aaa[sex==0]\n",
    "print(np.mean(b), np.std(b))\n",
    "\n",
    "print(np.sum(a==1)/(np.sum(a==1)+np.sum(a==2)))\n",
    "print(np.sum(a==2)/(np.sum(a==1)+np.sum(a==2)))\n",
    "\n",
    "print(np.sum(b==1)/(np.sum(b==1)+np.sum(b==2)))\n",
    "print(np.sum(b==2)/(np.sum(b==1)+np.sum(b==2)))\n",
    "\n",
    "[sss, p] = stats.ttest_ind(a, b)\n",
    "\n",
    "print ('%2.20f' % p)"
   ]
  },
  {
   "cell_type": "code",
   "execution_count": 167,
   "metadata": {},
   "outputs": [
    {
     "name": "stdout",
     "output_type": "stream",
     "text": [
      "0.00014723421799035504\n"
     ]
    },
    {
     "name": "stderr",
     "output_type": "stream",
     "text": [
      "C:\\Users\\E31195\\AppData\\Local\\Continuum\\anaconda3\\lib\\site-packages\\matplotlib\\figure.py:457: UserWarning: matplotlib is currently using a non-GUI backend, so cannot show the figure\n",
      "  \"matplotlib is currently using a non-GUI backend, \"\n"
     ]
    },
    {
     "data": {
      "image/png": "[encoded data removed]",
      "text/plain": [
       "<Figure size 648x432 with 1 Axes>"
      ]
     },
     "metadata": {},
     "output_type": "display_data"
    }
   ],
   "source": [
    "\n",
    "#s = 'pea_ravlt_sd_trial_iii_tc'\n",
    "s = 'pea_wiscv_trs'\n",
    "\n",
    "fvec = all_info4[s][sex==1]\n",
    "mvec = all_info4[s][sex==0]\n",
    "fpred = all_info4['pred'][sex==1]\n",
    "mpred = all_info4['pred'][sex==0]\n",
    "\n",
    "fnan = np.isnan(np.array(fvec.values, dtype=np.float64))\n",
    "mnan = np.isnan(np.array(mvec.values, dtype=np.float64))\n",
    "\n",
    "fvec = fvec[~fnan]\n",
    "mvec = mvec[~mnan]\n",
    "fpred = fpred[~fnan]\n",
    "mpred = mpred[~mnan]\n",
    "\n",
    "[sss, p] = stats.ttest_ind(np.array(fvec.values, dtype=np.float64), np.array(mvec.values, dtype=np.float64))\n",
    "\n",
    "fvv = np.array(fvec.values, dtype=np.float64)\n",
    "mvv = np.array(mvec.values, dtype=np.float64)\n",
    "\n",
    "print ('%2.20f' % p)\n",
    "\n",
    "fig1 = plt.figure(1, figsize=(9, 6))\n",
    "#fig1, ax = plt.subplots()\n",
    "# plt.plot(np.ones(fvec.shape[0])+np.random.rand(fvec.shape[0])-0.4, fvec, '.', c='firebrick', label='Female')\n",
    "# plt.plot(np.zeros(mvec.shape[0])+np.random.rand(mvec.shape[0])-0.6, mvec, '.', c='steelblue', label='Male')\n",
    "plt.plot(fpred, fvec, '.', c='firebrick', label='Female')\n",
    "plt.plot(mpred, mvec, '.', c='steelblue', label='Male')\n",
    "plt.xticks(np.arange(0), ())\n",
    "plt.yticks(np.arange(0), ())\n",
    "plt.title(s)\n",
    "plt.legend(loc='best', shadow=True);\n",
    "fig1.show()\n",
    "#fig.savefig('tsne_features_2d.eps', format='eps', dpi=300)\n",
    "    #fig.savefig('tsne_features_2d.jpg', format='jpg', dpi=300)\n",
    "# else:\n",
    "#     ## combine these different collections into a list    \n",
    "#     data_to_plot = [females, males]\n",
    "#     fig2 = plt.figure(i+1, figsize=(9, 6))\n",
    "#     #ax2 = fig2.add_subplot(211+i)\n",
    "#     bp = plt.boxplot(data_to_plot, notch=True)\n",
    "#     plt.xticks([1, 2], ['Female', 'Male'])\n",
    "#     plt.title(s + (' (pval = %f)' % pval))\n",
    "#     #fig.savefig('fig1.png', bbox_inches='tight')\n",
    "# i+=1\n",
    "        "
   ]
  },
  {
   "cell_type": "code",
   "execution_count": 166,
   "metadata": {},
   "outputs": [
    {
     "name": "stdout",
     "output_type": "stream",
     "text": [
      "f = 10.00 +/- 2.57\n",
      "m = 9.53 +/- 2.62\n",
      "p = 0.0000000248\n"
     ]
    },
    {
     "data": {
      "text/plain": [
       "Text(0.5,1,'pea_ravlt_sd_trial_iii_tc (pval = 0.000000)')"
      ]
     },
     "execution_count": 166,
     "metadata": {},
     "output_type": "execute_result"
    },
    {
     "data": {
      "image/png": "[encoded data removed]",
      "text/plain": [
       "<Figure size 648x432 with 1 Axes>"
      ]
     },
     "metadata": {
      "needs_background": "light"
     },
     "output_type": "display_data"
    }
   ],
   "source": [
    "        \n",
    "[ss, p] = stats.ttest_ind(fvv, mvv)\n",
    "print ('f = %.2f +/- %.2f\\nm = %.2f +/- %.2f\\np = %.10f' % (np.mean(fvv), np.std(fvv), np.mean(mvv), np.std(mvv), p))\n",
    "\n",
    "data_to_plot = [fvv, mvv]\n",
    "fig2 = plt.figure(2, figsize=(9, 6))\n",
    "bp = plt.boxplot(data_to_plot, notch=True)\n",
    "plt.xticks([1, 2], ['Female', 'Male'])\n",
    "plt.title(s + (' (pval = %f)' % p))\n"
   ]
  },
  {
   "cell_type": "code",
   "execution_count": 129,
   "metadata": {},
   "outputs": [
    {
     "data": {
      "text/plain": [
       "23"
      ]
     },
     "execution_count": 129,
     "metadata": {},
     "output_type": "execute_result"
    }
   ],
   "source": [
    "fvec = all_info4[''][sex==1]\n",
    "mvec = all_info4[s][sex==0]\n",
    "fpred = all_info4['pred'][sex==1]\n",
    "mpred = all_info4['pred'][sex==0]"
   ]
  },
  {
   "cell_type": "code",
   "execution_count": 256,
   "metadata": {},
   "outputs": [
    {
     "ename": "TypeError",
     "evalue": "Could not convert 878995849193821028588879380949383917488829083101867888827292949378869165808577988880867784908788877710476838181928684978981938685757810276881058883838797919388818976948088889076939688829590858587104818582668290918283997379818292847987848810792889197918891797975799686939287898976828787668986857986837580917877928486919679858982758981777888108959580999496847478869184838483698092977390788385799083949670768486901009076858976789289788779818110387938884856793878873738573908797829888878781839280908278879095948083948689668585937881791028382918888959488102928583988483751089588749599907792968883988291818786848790918110381808581691059681808191857690848781908084868599878682867593817687887582839595818884889890788875909290837887779180928899848277831099495857792897886908578929082929592838189718280738485768974917984888476868672838792877788938897958283849390908984969210278959691867779869094888388718286847510880748084929575847484748486749310579939189906779818994907589798596821028780839296788484809086848486877695957481898185858483867675818210990868285879276809282718610480929910495868780909080828792757380789882879286848583777776104851001008779103798979918180777884101788097747084778475908396808010788749496768385827776808598858575788577858691857776878988779182827683928482819089938076899985897687938284688791809087867580801019775818688969681839084788493918588869891848177898785821027979988087808079818289867910399818284978285751118483839386888586978996799194758092789710282867989100798691809386108808079808581988489949290969610969887499837793877788788175838986757481798581878787898189977974757579979086828569928784909190799078768396848384998387959984838684909789847774919582919488798893801069284889786948372849579946893104887884828682718683861148884828086817692818793808890839581105917676857295966980957490928381748085908794978894958392778194818483837871878085789277858080899080878970778579778392868183868582768091828094818892739381858477641048876838086789584828695949210290698184838472947576807490858986817778767010285888977917697838582698891958875828890978785698196788190105868083829610679781087986818968809581978883937491989380887989749388948186898787868878927783898277739890769511085809685919171958387101859685848492767183817983788282747872114103808487941108183778990718092858296789592848810392859686899082788985889688103818281928277838610082109909579848183848678887793839370898089906710088938183768280797989109857982728381819383817480948479751029490828096716888948688908293928479879184908410092788887949092878375788899778096999281711011028684809287809482898081839090891028684817685959190809686917997969975908095861018983968090709178808993938285789492958782968378987981778092687889928780889883828694899291988391918584926986797690808079899980779279809093898377818311588948190791067875957886847976757995937179898188988888838710280848281848293888491869686888597788180877683907981749483957984827999818595798872837680928369938876728385838689768292728288966994789087919387988481849791909986811018787987999898292768480868486849185768282809987668783818395877993787671797471688784938685938184869799947795837892100828578708182869993859484858382879293951049572928910178767884838795699786868591999490797673819710890909792927495887978948090788982908098818279113968691869287888495769072858710386781068297918377899810287908387928510585907989728982919783878589958987100102951028199908086939280728582801079893879268858610287829878757890859281908082928378838388958881838680968279658877798691698175748510110489919489748881877984849179738389878091868410389921039087828684948784859084788796828785828083839273751068896938986808076818595918893818687119788388758692868193917281918310383937582799282948878787384909390937678888583828488851008479809281937584879183918784779675869088828389838282939092848881958582878087899292819485909382868683839493848487887879908210280891038994888788961008774788083908392749682959183797195889892819087688686798582857586918978796979848788898582719884899784821028385927579828980879884838168927791818792838778829079948782861138790898886758185948683808583827980879087829110984104798187778087898285869790938677988483729288928680778679908388967983869684778087748595778390809487799579897981838983847791898088838178838283828181878785857187817481848682909787851019490776967968110385103699091838610087858888957685816877828173818485739194829188928585717992104888510576837984929088968672861031048298938681818481848687988791869180888485927575849595747796918185897473829292848267958490897682799093798875897989101968486889667748190808788818883818077819182811098786898293998184977790857985888788887781818487979091978781908089818590928779877579778287978084708387968083868588697385848885817487718285908979799879888390838287899275839290788681908369909292781048184100939892848570977882886877829087103761021039084908784788994103888790838890776778849178927785858381819980688688958589836878897980867876748186967981917982848381828473938287937486779875908484887678107859395886582968588857085878097988088881028210680858078888410036788487898879908993819081878990908284798710010191898894751028885967394938683879479907881879781987885948978787185948096807998808398937886898878867710173957780678985778180878482928289919278819381988888.28281968291948192779876718394868984979480949488959183868485779285847510597729010497878183808284878686828178818074101889177847510180798769831027992851028583769181807384858187987592848081837183858891788395759877858073918285759090868083878690817584968286848987738476848294908089788392827984767887858995789481887883879278929577828175858610084838376849296889786848288807277879790107831058593868967857996838886799782917087688582778971978065789279928588808775978897788086879678808476768583938888757373102110829380818389877685798284828686102668885838195917787848497859990977380101948681906391868290968887948589908884927768878175848684109909285827996968485789278928778898792938378825988788890107929682878393807290928785767899687772828184818479841089289918262938784809284868176837995106888882839190789288949081798089937993899083828081839978858384838192908888779170949288647990919695978499799085838795758098948399828296939786919492898479808583909083899484878281105879110098811027982898981828284738994878083879091738374818197821027881867880928381768390781007910179848488778367829177868085828485838878869177859379927485768292956991938698938591891089480828085828798818988788871978288969688919787811038975729399849661839481838590979188818484859210079827587927269929489898992898910778888386857881707883102967880929493908784818087848288718886777686927980917993868592887983889092879092898686838283868179879177878483818891878988681009191889580799788828076988894908996881137187739210582819583858788768878928085831138583987896758510188857691848996807810497978986907675829882778690977391788687897686808289858210380809079778974928292768479877996727480797870100103948681818690788180918877909083687083838079118918286103759084858392709987908681789283858381918395827376828883929072868086768481958673809279978692859393716686918687847886681058184778310687928681857084897783818360708680928394878686828696878295829377838396919180867782110798878959989868685847799978276809082868689638188998483918674758882898880668079778980821017686878980958580968381857190102949085878189898487907793829274839189748483808885101858188799285987886807490799089100957689102829491.5918593101104988181103967984837396878982928783101787683889294777986841028677928574969383848496948188839683779293928491103105757688889896798885887190748676807773969189877875937986788810183868279818888956983877085981029090927970818084848284859487837576818878848495759575817185868168769183869493817893847893837989928786928796918682798479788888908779868282829290858498818874999981687493868679868691988895729396758580768976828184828281938079102989483831039083858382848282789091728983959970788081828093100818184879087927783848295827991757381669198828881819792 to numeric",
     "output_type": "error",
     "traceback": [
      "\u001b[1;31m---------------------------------------------------------------------------\u001b[0m",
      "\u001b[1;31mValueError\u001b[0m                                Traceback (most recent call last)",
      "\u001b[1;32m~\\AppData\\Local\\Continuum\\anaconda3\\lib\\site-packages\\pandas\\core\\nanops.py\u001b[0m in \u001b[0;36m_ensure_numeric\u001b[1;34m(x)\u001b[0m\n\u001b[0;32m    821\u001b[0m         \u001b[1;32mtry\u001b[0m\u001b[1;33m:\u001b[0m\u001b[1;33m\u001b[0m\u001b[0m\n\u001b[1;32m--> 822\u001b[1;33m             \u001b[0mx\u001b[0m \u001b[1;33m=\u001b[0m \u001b[0mfloat\u001b[0m\u001b[1;33m(\u001b[0m\u001b[0mx\u001b[0m\u001b[1;33m)\u001b[0m\u001b[1;33m\u001b[0m\u001b[0m\n\u001b[0m\u001b[0;32m    823\u001b[0m         \u001b[1;32mexcept\u001b[0m \u001b[0mException\u001b[0m\u001b[1;33m:\u001b[0m\u001b[1;33m\u001b[0m\u001b[0m\n",
      "\u001b[1;31mValueError\u001b[0m: could not convert string to float: '878995849193821028588879380949383917488829083101867888827292949378869165808577988880867784908788877710476838181928684978981938685757810276881058883838797919388818976948088889076939688829590858587104818582668290918283997379818292847987848810792889197918891797975799686939287898976828787668986857986837580917877928486919679858982758981777888108959580999496847478869184838483698092977390788385799083949670768486901009076858976789289788779818110387938884856793878873738573908797829888878781839280908278879095948083948689668585937881791028382918888959488102928583988483751089588749599907792968883988291818786848790918110381808581691059681808191857690848781908084868599878682867593817687887582839595818884889890788875909290837887779180928899848277831099495857792897886908578929082929592838189718280738485768974917984888476868672838792877788938897958283849390908984969210278959691867779869094888388718286847510880748084929575847484748486749310579939189906779818994907589798596821028780839296788484809086848486877695957481898185858483867675818210990868285879276809282718610480929910495868780909080828792757380789882879286848583777776104851001008779103798979918180777884101788097747084778475908396808010788749496768385827776808598858575788577858691857776878988779182827683928482819089938076899985897687938284688791809087867580801019775818688969681839084788493918588869891848177898785821027979988087808079818289867910399818284978285751118483839386888586978996799194758092789710282867989100798691809386108808079808581988489949290969610969887499837793877788788175838986757481798581878787898189977974757579979086828569928784909190799078768396848384998387959984838684909789847774919582919488798893801069284889786948372849579946893104887884828682718683861148884828086817692818793808890839581105917676857295966980957490928381748085908794978894958392778194818483837871878085789277858080899080878970778579778392868183868582768091828094818892739381858477641048876838086789584828695949210290698184838472947576807490858986817778767010285888977917697838582698891958875828890978785698196788190105868083829610679781087986818968809581978883937491989380887989749388948186898787868878927783898277739890769511085809685919171958387101859685848492767183817983788282747872114103808487941108183778990718092858296789592848810392859686899082788985889688103818281928277838610082109909579848183848678887793839370898089906710088938183768280797989109857982728381819383817480948479751029490828096716888948688908293928479879184908410092788887949092878375788899778096999281711011028684809287809482898081839090891028684817685959190809686917997969975908095861018983968090709178808993938285789492958782968378987981778092687889928780889883828694899291988391918584926986797690808079899980779279809093898377818311588948190791067875957886847976757995937179898188988888838710280848281848293888491869686888597788180877683907981749483957984827999818595798872837680928369938876728385838689768292728288966994789087919387988481849791909986811018787987999898292768480868486849185768282809987668783818395877993787671797471688784938685938184869799947795837892100828578708182869993859484858382879293951049572928910178767884838795699786868591999490797673819710890909792927495887978948090788982908098818279113968691869287888495769072858710386781068297918377899810287908387928510585907989728982919783878589958987100102951028199908086939280728582801079893879268858610287829878757890859281908082928378838388958881838680968279658877798691698175748510110489919489748881877984849179738389878091868410389921039087828684948784859084788796828785828083839273751068896938986808076818595918893818687119788388758692868193917281918310383937582799282948878787384909390937678888583828488851008479809281937584879183918784779675869088828389838282939092848881958582878087899292819485909382868683839493848487887879908210280891038994888788961008774788083908392749682959183797195889892819087688686798582857586918978796979848788898582719884899784821028385927579828980879884838168927791818792838778829079948782861138790898886758185948683808583827980879087829110984104798187778087898285869790938677988483729288928680778679908388967983869684778087748595778390809487799579897981838983847791898088838178838283828181878785857187817481848682909787851019490776967968110385103699091838610087858888957685816877828173818485739194829188928585717992104888510576837984929088968672861031048298938681818481848687988791869180888485927575849595747796918185897473829292848267958490897682799093798875897989101968486889667748190808788818883818077819182811098786898293998184977790857985888788887781818487979091978781908089818590928779877579778287978084708387968083868588697385848885817487718285908979799879888390838287899275839290788681908369909292781048184100939892848570977882886877829087103761021039084908784788994103888790838890776778849178927785858381819980688688958589836878897980867876748186967981917982848381828473938287937486779875908484887678107859395886582968588857085878097988088881028210680858078888410036788487898879908993819081878990908284798710010191898894751028885967394938683879479907881879781987885948978787185948096807998808398937886898878867710173957780678985778180878482928289919278819381988888.28281968291948192779876718394868984979480949488959183868485779285847510597729010497878183808284878686828178818074101889177847510180798769831027992851028583769181807384858187987592848081837183858891788395759877858073918285759090868083878690817584968286848987738476848294908089788392827984767887858995789481887883879278929577828175858610084838376849296889786848288807277879790107831058593868967857996838886799782917087688582778971978065789279928588808775978897788086879678808476768583938888757373102110829380818389877685798284828686102668885838195917787848497859990977380101948681906391868290968887948589908884927768878175848684109909285827996968485789278928778898792938378825988788890107929682878393807290928785767899687772828184818479841089289918262938784809284868176837995106888882839190789288949081798089937993899083828081839978858384838192908888779170949288647990919695978499799085838795758098948399828296939786919492898479808583909083899484878281105879110098811027982898981828284738994878083879091738374818197821027881867880928381768390781007910179848488778367829177868085828485838878869177859379927485768292956991938698938591891089480828085828798818988788871978288969688919787811038975729399849661839481838590979188818484859210079827587927269929489898992898910778888386857881707883102967880929493908784818087848288718886777686927980917993868592887983889092879092898686838283868179879177878483818891878988681009191889580799788828076988894908996881137187739210582819583858788768878928085831138583987896758510188857691848996807810497978986907675829882778690977391788687897686808289858210380809079778974928292768479877996727480797870100103948681818690788180918877909083687083838079118918286103759084858392709987908681789283858381918395827376828883929072868086768481958673809279978692859393716686918687847886681058184778310687928681857084897783818360708680928394878686828696878295829377838396919180867782110798878959989868685847799978276809082868689638188998483918674758882898880668079778980821017686878980958580968381857190102949085878189898487907793829274839189748483808885101858188799285987886807490799089100957689102829491.5918593101104988181103967984837396878982928783101787683889294777986841028677928574969383848496948188839683779293928491103105757688889896798885887190748676807773969189877875937986788810183868279818888956983877085981029090927970818084848284859487837576818878848495759575817185868168769183869493817893847893837989928786928796918682798479788888908779868282829290858498818874999981687493868679868691988895729396758580768976828184828281938079102989483831039083858382848282789091728983959970788081828093100818184879087927783848295827991757381669198828881819792'",
      "\nDuring handling of the above exception, another exception occurred:\n",
      "\u001b[1;31mValueError\u001b[0m                                Traceback (most recent call last)",
      "\u001b[1;32m~\\AppData\\Local\\Continuum\\anaconda3\\lib\\site-packages\\pandas\\core\\nanops.py\u001b[0m in \u001b[0;36m_ensure_numeric\u001b[1;34m(x)\u001b[0m\n\u001b[0;32m    824\u001b[0m             \u001b[1;32mtry\u001b[0m\u001b[1;33m:\u001b[0m\u001b[1;33m\u001b[0m\u001b[0m\n\u001b[1;32m--> 825\u001b[1;33m                 \u001b[0mx\u001b[0m \u001b[1;33m=\u001b[0m \u001b[0mcomplex\u001b[0m\u001b[1;33m(\u001b[0m\u001b[0mx\u001b[0m\u001b[1;33m)\u001b[0m\u001b[1;33m\u001b[0m\u001b[0m\n\u001b[0m\u001b[0;32m    826\u001b[0m             \u001b[1;32mexcept\u001b[0m \u001b[0mException\u001b[0m\u001b[1;33m:\u001b[0m\u001b[1;33m\u001b[0m\u001b[0m\n",
      "\u001b[1;31mValueError\u001b[0m: complex() arg is a malformed string",
      "\nDuring handling of the above exception, another exception occurred:\n",
      "\u001b[1;31mTypeError\u001b[0m                                 Traceback (most recent call last)",
      "\u001b[1;32m~\\AppData\\Local\\Continuum\\anaconda3\\lib\\site-packages\\pandas\\core\\nanops.py\u001b[0m in \u001b[0;36mf\u001b[1;34m(values, axis, skipna, **kwds)\u001b[0m\n\u001b[0;32m    127\u001b[0m                 \u001b[1;32melse\u001b[0m\u001b[1;33m:\u001b[0m\u001b[1;33m\u001b[0m\u001b[0m\n\u001b[1;32m--> 128\u001b[1;33m                     \u001b[0mresult\u001b[0m \u001b[1;33m=\u001b[0m \u001b[0malt\u001b[0m\u001b[1;33m(\u001b[0m\u001b[0mvalues\u001b[0m\u001b[1;33m,\u001b[0m \u001b[0maxis\u001b[0m\u001b[1;33m=\u001b[0m\u001b[0maxis\u001b[0m\u001b[1;33m,\u001b[0m \u001b[0mskipna\u001b[0m\u001b[1;33m=\u001b[0m\u001b[0mskipna\u001b[0m\u001b[1;33m,\u001b[0m \u001b[1;33m**\u001b[0m\u001b[0mkwds\u001b[0m\u001b[1;33m)\u001b[0m\u001b[1;33m\u001b[0m\u001b[0m\n\u001b[0m\u001b[0;32m    129\u001b[0m             \u001b[1;32mexcept\u001b[0m \u001b[0mException\u001b[0m\u001b[1;33m:\u001b[0m\u001b[1;33m\u001b[0m\u001b[0m\n",
      "\u001b[1;32m~\\AppData\\Local\\Continuum\\anaconda3\\lib\\site-packages\\pandas\\core\\nanops.py\u001b[0m in \u001b[0;36mnanmean\u001b[1;34m(values, axis, skipna)\u001b[0m\n\u001b[0;32m    354\u001b[0m     \u001b[0mcount\u001b[0m \u001b[1;33m=\u001b[0m \u001b[0m_get_counts\u001b[0m\u001b[1;33m(\u001b[0m\u001b[0mmask\u001b[0m\u001b[1;33m,\u001b[0m \u001b[0maxis\u001b[0m\u001b[1;33m,\u001b[0m \u001b[0mdtype\u001b[0m\u001b[1;33m=\u001b[0m\u001b[0mdtype_count\u001b[0m\u001b[1;33m)\u001b[0m\u001b[1;33m\u001b[0m\u001b[0m\n\u001b[1;32m--> 355\u001b[1;33m     \u001b[0mthe_sum\u001b[0m \u001b[1;33m=\u001b[0m \u001b[0m_ensure_numeric\u001b[0m\u001b[1;33m(\u001b[0m\u001b[0mvalues\u001b[0m\u001b[1;33m.\u001b[0m\u001b[0msum\u001b[0m\u001b[1;33m(\u001b[0m\u001b[0maxis\u001b[0m\u001b[1;33m,\u001b[0m \u001b[0mdtype\u001b[0m\u001b[1;33m=\u001b[0m\u001b[0mdtype_sum\u001b[0m\u001b[1;33m)\u001b[0m\u001b[1;33m)\u001b[0m\u001b[1;33m\u001b[0m\u001b[0m\n\u001b[0m\u001b[0;32m    356\u001b[0m \u001b[1;33m\u001b[0m\u001b[0m\n",
      "\u001b[1;32m~\\AppData\\Local\\Continuum\\anaconda3\\lib\\site-packages\\pandas\\core\\nanops.py\u001b[0m in \u001b[0;36m_ensure_numeric\u001b[1;34m(x)\u001b[0m\n\u001b[0;32m    827\u001b[0m                 raise TypeError('Could not convert {value!s} to numeric'\n\u001b[1;32m--> 828\u001b[1;33m                                 .format(value=x))\n\u001b[0m\u001b[0;32m    829\u001b[0m     \u001b[1;32mreturn\u001b[0m \u001b[0mx\u001b[0m\u001b[1;33m\u001b[0m\u001b[0m\n",
      "\u001b[1;31mTypeError\u001b[0m: Could not convert 878995849193821028588879380949383917488829083101867888827292949378869165808577988880867784908788877710476838181928684978981938685757810276881058883838797919388818976948088889076939688829590858587104818582668290918283997379818292847987848810792889197918891797975799686939287898976828787668986857986837580917877928486919679858982758981777888108959580999496847478869184838483698092977390788385799083949670768486901009076858976789289788779818110387938884856793878873738573908797829888878781839280908278879095948083948689668585937881791028382918888959488102928583988483751089588749599907792968883988291818786848790918110381808581691059681808191857690848781908084868599878682867593817687887582839595818884889890788875909290837887779180928899848277831099495857792897886908578929082929592838189718280738485768974917984888476868672838792877788938897958283849390908984969210278959691867779869094888388718286847510880748084929575847484748486749310579939189906779818994907589798596821028780839296788484809086848486877695957481898185858483867675818210990868285879276809282718610480929910495868780909080828792757380789882879286848583777776104851001008779103798979918180777884101788097747084778475908396808010788749496768385827776808598858575788577858691857776878988779182827683928482819089938076899985897687938284688791809087867580801019775818688969681839084788493918588869891848177898785821027979988087808079818289867910399818284978285751118483839386888586978996799194758092789710282867989100798691809386108808079808581988489949290969610969887499837793877788788175838986757481798581878787898189977974757579979086828569928784909190799078768396848384998387959984838684909789847774919582919488798893801069284889786948372849579946893104887884828682718683861148884828086817692818793808890839581105917676857295966980957490928381748085908794978894958392778194818483837871878085789277858080899080878970778579778392868183868582768091828094818892739381858477641048876838086789584828695949210290698184838472947576807490858986817778767010285888977917697838582698891958875828890978785698196788190105868083829610679781087986818968809581978883937491989380887989749388948186898787868878927783898277739890769511085809685919171958387101859685848492767183817983788282747872114103808487941108183778990718092858296789592848810392859686899082788985889688103818281928277838610082109909579848183848678887793839370898089906710088938183768280797989109857982728381819383817480948479751029490828096716888948688908293928479879184908410092788887949092878375788899778096999281711011028684809287809482898081839090891028684817685959190809686917997969975908095861018983968090709178808993938285789492958782968378987981778092687889928780889883828694899291988391918584926986797690808079899980779279809093898377818311588948190791067875957886847976757995937179898188988888838710280848281848293888491869686888597788180877683907981749483957984827999818595798872837680928369938876728385838689768292728288966994789087919387988481849791909986811018787987999898292768480868486849185768282809987668783818395877993787671797471688784938685938184869799947795837892100828578708182869993859484858382879293951049572928910178767884838795699786868591999490797673819710890909792927495887978948090788982908098818279113968691869287888495769072858710386781068297918377899810287908387928510585907989728982919783878589958987100102951028199908086939280728582801079893879268858610287829878757890859281908082928378838388958881838680968279658877798691698175748510110489919489748881877984849179738389878091868410389921039087828684948784859084788796828785828083839273751068896938986808076818595918893818687119788388758692868193917281918310383937582799282948878787384909390937678888583828488851008479809281937584879183918784779675869088828389838282939092848881958582878087899292819485909382868683839493848487887879908210280891038994888788961008774788083908392749682959183797195889892819087688686798582857586918978796979848788898582719884899784821028385927579828980879884838168927791818792838778829079948782861138790898886758185948683808583827980879087829110984104798187778087898285869790938677988483729288928680778679908388967983869684778087748595778390809487799579897981838983847791898088838178838283828181878785857187817481848682909787851019490776967968110385103699091838610087858888957685816877828173818485739194829188928585717992104888510576837984929088968672861031048298938681818481848687988791869180888485927575849595747796918185897473829292848267958490897682799093798875897989101968486889667748190808788818883818077819182811098786898293998184977790857985888788887781818487979091978781908089818590928779877579778287978084708387968083868588697385848885817487718285908979799879888390838287899275839290788681908369909292781048184100939892848570977882886877829087103761021039084908784788994103888790838890776778849178927785858381819980688688958589836878897980867876748186967981917982848381828473938287937486779875908484887678107859395886582968588857085878097988088881028210680858078888410036788487898879908993819081878990908284798710010191898894751028885967394938683879479907881879781987885948978787185948096807998808398937886898878867710173957780678985778180878482928289919278819381988888.28281968291948192779876718394868984979480949488959183868485779285847510597729010497878183808284878686828178818074101889177847510180798769831027992851028583769181807384858187987592848081837183858891788395759877858073918285759090868083878690817584968286848987738476848294908089788392827984767887858995789481887883879278929577828175858610084838376849296889786848288807277879790107831058593868967857996838886799782917087688582778971978065789279928588808775978897788086879678808476768583938888757373102110829380818389877685798284828686102668885838195917787848497859990977380101948681906391868290968887948589908884927768878175848684109909285827996968485789278928778898792938378825988788890107929682878393807290928785767899687772828184818479841089289918262938784809284868176837995106888882839190789288949081798089937993899083828081839978858384838192908888779170949288647990919695978499799085838795758098948399828296939786919492898479808583909083899484878281105879110098811027982898981828284738994878083879091738374818197821027881867880928381768390781007910179848488778367829177868085828485838878869177859379927485768292956991938698938591891089480828085828798818988788871978288969688919787811038975729399849661839481838590979188818484859210079827587927269929489898992898910778888386857881707883102967880929493908784818087848288718886777686927980917993868592887983889092879092898686838283868179879177878483818891878988681009191889580799788828076988894908996881137187739210582819583858788768878928085831138583987896758510188857691848996807810497978986907675829882778690977391788687897686808289858210380809079778974928292768479877996727480797870100103948681818690788180918877909083687083838079118918286103759084858392709987908681789283858381918395827376828883929072868086768481958673809279978692859393716686918687847886681058184778310687928681857084897783818360708680928394878686828696878295829377838396919180867782110798878959989868685847799978276809082868689638188998483918674758882898880668079778980821017686878980958580968381857190102949085878189898487907793829274839189748483808885101858188799285987886807490799089100957689102829491.5918593101104988181103967984837396878982928783101787683889294777986841028677928574969383848496948188839683779293928491103105757688889896798885887190748676807773969189877875937986788810183868279818888956983877085981029090927970818084848284859487837576818878848495759575817185868168769183869493817893847893837989928786928796918682798479788888908779868282829290858498818874999981687493868679868691988895729396758580768976828184828281938079102989483831039083858382848282789091728983959970788081828093100818184879087927783848295827991757381669198828881819792 to numeric",
      "\nDuring handling of the above exception, another exception occurred:\n",
      "\u001b[1;31mValueError\u001b[0m                                Traceback (most recent call last)",
      "\u001b[1;32m~\\AppData\\Local\\Continuum\\anaconda3\\lib\\site-packages\\pandas\\core\\nanops.py\u001b[0m in \u001b[0;36m_ensure_numeric\u001b[1;34m(x)\u001b[0m\n\u001b[0;32m    821\u001b[0m         \u001b[1;32mtry\u001b[0m\u001b[1;33m:\u001b[0m\u001b[1;33m\u001b[0m\u001b[0m\n\u001b[1;32m--> 822\u001b[1;33m             \u001b[0mx\u001b[0m \u001b[1;33m=\u001b[0m \u001b[0mfloat\u001b[0m\u001b[1;33m(\u001b[0m\u001b[0mx\u001b[0m\u001b[1;33m)\u001b[0m\u001b[1;33m\u001b[0m\u001b[0m\n\u001b[0m\u001b[0;32m    823\u001b[0m         \u001b[1;32mexcept\u001b[0m \u001b[0mException\u001b[0m\u001b[1;33m:\u001b[0m\u001b[1;33m\u001b[0m\u001b[0m\n",
      "\u001b[1;31mValueError\u001b[0m: could not convert string to float: '878995849193821028588879380949383917488829083101867888827292949378869165808577988880867784908788877710476838181928684978981938685757810276881058883838797919388818976948088889076939688829590858587104818582668290918283997379818292847987848810792889197918891797975799686939287898976828787668986857986837580917877928486919679858982758981777888108959580999496847478869184838483698092977390788385799083949670768486901009076858976789289788779818110387938884856793878873738573908797829888878781839280908278879095948083948689668585937881791028382918888959488102928583988483751089588749599907792968883988291818786848790918110381808581691059681808191857690848781908084868599878682867593817687887582839595818884889890788875909290837887779180928899848277831099495857792897886908578929082929592838189718280738485768974917984888476868672838792877788938897958283849390908984969210278959691867779869094888388718286847510880748084929575847484748486749310579939189906779818994907589798596821028780839296788484809086848486877695957481898185858483867675818210990868285879276809282718610480929910495868780909080828792757380789882879286848583777776104851001008779103798979918180777884101788097747084778475908396808010788749496768385827776808598858575788577858691857776878988779182827683928482819089938076899985897687938284688791809087867580801019775818688969681839084788493918588869891848177898785821027979988087808079818289867910399818284978285751118483839386888586978996799194758092789710282867989100798691809386108808079808581988489949290969610969887499837793877788788175838986757481798581878787898189977974757579979086828569928784909190799078768396848384998387959984838684909789847774919582919488798893801069284889786948372849579946893104887884828682718683861148884828086817692818793808890839581105917676857295966980957490928381748085908794978894958392778194818483837871878085789277858080899080878970778579778392868183868582768091828094818892739381858477641048876838086789584828695949210290698184838472947576807490858986817778767010285888977917697838582698891958875828890978785698196788190105868083829610679781087986818968809581978883937491989380887989749388948186898787868878927783898277739890769511085809685919171958387101859685848492767183817983788282747872114103808487941108183778990718092858296789592848810392859686899082788985889688103818281928277838610082109909579848183848678887793839370898089906710088938183768280797989109857982728381819383817480948479751029490828096716888948688908293928479879184908410092788887949092878375788899778096999281711011028684809287809482898081839090891028684817685959190809686917997969975908095861018983968090709178808993938285789492958782968378987981778092687889928780889883828694899291988391918584926986797690808079899980779279809093898377818311588948190791067875957886847976757995937179898188988888838710280848281848293888491869686888597788180877683907981749483957984827999818595798872837680928369938876728385838689768292728288966994789087919387988481849791909986811018787987999898292768480868486849185768282809987668783818395877993787671797471688784938685938184869799947795837892100828578708182869993859484858382879293951049572928910178767884838795699786868591999490797673819710890909792927495887978948090788982908098818279113968691869287888495769072858710386781068297918377899810287908387928510585907989728982919783878589958987100102951028199908086939280728582801079893879268858610287829878757890859281908082928378838388958881838680968279658877798691698175748510110489919489748881877984849179738389878091868410389921039087828684948784859084788796828785828083839273751068896938986808076818595918893818687119788388758692868193917281918310383937582799282948878787384909390937678888583828488851008479809281937584879183918784779675869088828389838282939092848881958582878087899292819485909382868683839493848487887879908210280891038994888788961008774788083908392749682959183797195889892819087688686798582857586918978796979848788898582719884899784821028385927579828980879884838168927791818792838778829079948782861138790898886758185948683808583827980879087829110984104798187778087898285869790938677988483729288928680778679908388967983869684778087748595778390809487799579897981838983847791898088838178838283828181878785857187817481848682909787851019490776967968110385103699091838610087858888957685816877828173818485739194829188928585717992104888510576837984929088968672861031048298938681818481848687988791869180888485927575849595747796918185897473829292848267958490897682799093798875897989101968486889667748190808788818883818077819182811098786898293998184977790857985888788887781818487979091978781908089818590928779877579778287978084708387968083868588697385848885817487718285908979799879888390838287899275839290788681908369909292781048184100939892848570977882886877829087103761021039084908784788994103888790838890776778849178927785858381819980688688958589836878897980867876748186967981917982848381828473938287937486779875908484887678107859395886582968588857085878097988088881028210680858078888410036788487898879908993819081878990908284798710010191898894751028885967394938683879479907881879781987885948978787185948096807998808398937886898878867710173957780678985778180878482928289919278819381988888.28281968291948192779876718394868984979480949488959183868485779285847510597729010497878183808284878686828178818074101889177847510180798769831027992851028583769181807384858187987592848081837183858891788395759877858073918285759090868083878690817584968286848987738476848294908089788392827984767887858995789481887883879278929577828175858610084838376849296889786848288807277879790107831058593868967857996838886799782917087688582778971978065789279928588808775978897788086879678808476768583938888757373102110829380818389877685798284828686102668885838195917787848497859990977380101948681906391868290968887948589908884927768878175848684109909285827996968485789278928778898792938378825988788890107929682878393807290928785767899687772828184818479841089289918262938784809284868176837995106888882839190789288949081798089937993899083828081839978858384838192908888779170949288647990919695978499799085838795758098948399828296939786919492898479808583909083899484878281105879110098811027982898981828284738994878083879091738374818197821027881867880928381768390781007910179848488778367829177868085828485838878869177859379927485768292956991938698938591891089480828085828798818988788871978288969688919787811038975729399849661839481838590979188818484859210079827587927269929489898992898910778888386857881707883102967880929493908784818087848288718886777686927980917993868592887983889092879092898686838283868179879177878483818891878988681009191889580799788828076988894908996881137187739210582819583858788768878928085831138583987896758510188857691848996807810497978986907675829882778690977391788687897686808289858210380809079778974928292768479877996727480797870100103948681818690788180918877909083687083838079118918286103759084858392709987908681789283858381918395827376828883929072868086768481958673809279978692859393716686918687847886681058184778310687928681857084897783818360708680928394878686828696878295829377838396919180867782110798878959989868685847799978276809082868689638188998483918674758882898880668079778980821017686878980958580968381857190102949085878189898487907793829274839189748483808885101858188799285987886807490799089100957689102829491.5918593101104988181103967984837396878982928783101787683889294777986841028677928574969383848496948188839683779293928491103105757688889896798885887190748676807773969189877875937986788810183868279818888956983877085981029090927970818084848284859487837576818878848495759575817185868168769183869493817893847893837989928786928796918682798479788888908779868282829290858498818874999981687493868679868691988895729396758580768976828184828281938079102989483831039083858382848282789091728983959970788081828093100818184879087927783848295827991757381669198828881819792'",
      "\nDuring handling of the above exception, another exception occurred:\n",
      "\u001b[1;31mValueError\u001b[0m                                Traceback (most recent call last)",
      "\u001b[1;32m~\\AppData\\Local\\Continuum\\anaconda3\\lib\\site-packages\\pandas\\core\\nanops.py\u001b[0m in \u001b[0;36m_ensure_numeric\u001b[1;34m(x)\u001b[0m\n\u001b[0;32m    824\u001b[0m             \u001b[1;32mtry\u001b[0m\u001b[1;33m:\u001b[0m\u001b[1;33m\u001b[0m\u001b[0m\n\u001b[1;32m--> 825\u001b[1;33m                 \u001b[0mx\u001b[0m \u001b[1;33m=\u001b[0m \u001b[0mcomplex\u001b[0m\u001b[1;33m(\u001b[0m\u001b[0mx\u001b[0m\u001b[1;33m)\u001b[0m\u001b[1;33m\u001b[0m\u001b[0m\n\u001b[0m\u001b[0;32m    826\u001b[0m             \u001b[1;32mexcept\u001b[0m \u001b[0mException\u001b[0m\u001b[1;33m:\u001b[0m\u001b[1;33m\u001b[0m\u001b[0m\n",
      "\u001b[1;31mValueError\u001b[0m: complex() arg is a malformed string",
      "\nDuring handling of the above exception, another exception occurred:\n",
      "\u001b[1;31mTypeError\u001b[0m                                 Traceback (most recent call last)",
      "\u001b[1;32m<ipython-input-256-df02a4b7f109>\u001b[0m in \u001b[0;36m<module>\u001b[1;34m()\u001b[0m\n\u001b[1;32m----> 1\u001b[1;33m \u001b[0mnp\u001b[0m\u001b[1;33m.\u001b[0m\u001b[0mmean\u001b[0m\u001b[1;33m(\u001b[0m\u001b[0mall_info3\u001b[0m\u001b[1;33m.\u001b[0m\u001b[0mnihtbx_picvocab_uncorrected\u001b[0m\u001b[1;33m)\u001b[0m\u001b[1;33m\u001b[0m\u001b[0m\n\u001b[0m",
      "\u001b[1;32m~\\AppData\\Local\\Continuum\\anaconda3\\lib\\site-packages\\numpy\\core\\fromnumeric.py\u001b[0m in \u001b[0;36mmean\u001b[1;34m(a, axis, dtype, out, keepdims)\u001b[0m\n\u001b[0;32m   2915\u001b[0m             \u001b[1;32mpass\u001b[0m\u001b[1;33m\u001b[0m\u001b[0m\n\u001b[0;32m   2916\u001b[0m         \u001b[1;32melse\u001b[0m\u001b[1;33m:\u001b[0m\u001b[1;33m\u001b[0m\u001b[0m\n\u001b[1;32m-> 2917\u001b[1;33m             \u001b[1;32mreturn\u001b[0m \u001b[0mmean\u001b[0m\u001b[1;33m(\u001b[0m\u001b[0maxis\u001b[0m\u001b[1;33m=\u001b[0m\u001b[0maxis\u001b[0m\u001b[1;33m,\u001b[0m \u001b[0mdtype\u001b[0m\u001b[1;33m=\u001b[0m\u001b[0mdtype\u001b[0m\u001b[1;33m,\u001b[0m \u001b[0mout\u001b[0m\u001b[1;33m=\u001b[0m\u001b[0mout\u001b[0m\u001b[1;33m,\u001b[0m \u001b[1;33m**\u001b[0m\u001b[0mkwargs\u001b[0m\u001b[1;33m)\u001b[0m\u001b[1;33m\u001b[0m\u001b[0m\n\u001b[0m\u001b[0;32m   2918\u001b[0m \u001b[1;33m\u001b[0m\u001b[0m\n\u001b[0;32m   2919\u001b[0m     return _methods._mean(a, axis=axis, dtype=dtype,\n",
      "\u001b[1;32m~\\AppData\\Local\\Continuum\\anaconda3\\lib\\site-packages\\pandas\\core\\generic.py\u001b[0m in \u001b[0;36mstat_func\u001b[1;34m(self, axis, skipna, level, numeric_only, **kwargs)\u001b[0m\n\u001b[0;32m   9611\u001b[0m                                       skipna=skipna)\n\u001b[0;32m   9612\u001b[0m         return self._reduce(f, name, axis=axis, skipna=skipna,\n\u001b[1;32m-> 9613\u001b[1;33m                             numeric_only=numeric_only)\n\u001b[0m\u001b[0;32m   9614\u001b[0m \u001b[1;33m\u001b[0m\u001b[0m\n\u001b[0;32m   9615\u001b[0m     \u001b[1;32mreturn\u001b[0m \u001b[0mset_function_name\u001b[0m\u001b[1;33m(\u001b[0m\u001b[0mstat_func\u001b[0m\u001b[1;33m,\u001b[0m \u001b[0mname\u001b[0m\u001b[1;33m,\u001b[0m \u001b[0mcls\u001b[0m\u001b[1;33m)\u001b[0m\u001b[1;33m\u001b[0m\u001b[0m\n",
      "\u001b[1;32m~\\AppData\\Local\\Continuum\\anaconda3\\lib\\site-packages\\pandas\\core\\series.py\u001b[0m in \u001b[0;36m_reduce\u001b[1;34m(self, op, name, axis, skipna, numeric_only, filter_type, **kwds)\u001b[0m\n\u001b[0;32m   3219\u001b[0m                                           'numeric_only.'.format(name))\n\u001b[0;32m   3220\u001b[0m             \u001b[1;32mwith\u001b[0m \u001b[0mnp\u001b[0m\u001b[1;33m.\u001b[0m\u001b[0merrstate\u001b[0m\u001b[1;33m(\u001b[0m\u001b[0mall\u001b[0m\u001b[1;33m=\u001b[0m\u001b[1;34m'ignore'\u001b[0m\u001b[1;33m)\u001b[0m\u001b[1;33m:\u001b[0m\u001b[1;33m\u001b[0m\u001b[0m\n\u001b[1;32m-> 3221\u001b[1;33m                 \u001b[1;32mreturn\u001b[0m \u001b[0mop\u001b[0m\u001b[1;33m(\u001b[0m\u001b[0mdelegate\u001b[0m\u001b[1;33m,\u001b[0m \u001b[0mskipna\u001b[0m\u001b[1;33m=\u001b[0m\u001b[0mskipna\u001b[0m\u001b[1;33m,\u001b[0m \u001b[1;33m**\u001b[0m\u001b[0mkwds\u001b[0m\u001b[1;33m)\u001b[0m\u001b[1;33m\u001b[0m\u001b[0m\n\u001b[0m\u001b[0;32m   3222\u001b[0m \u001b[1;33m\u001b[0m\u001b[0m\n\u001b[0;32m   3223\u001b[0m         return delegate._reduce(op=op, name=name, axis=axis, skipna=skipna,\n",
      "\u001b[1;32m~\\AppData\\Local\\Continuum\\anaconda3\\lib\\site-packages\\pandas\\core\\nanops.py\u001b[0m in \u001b[0;36m_f\u001b[1;34m(*args, **kwargs)\u001b[0m\n\u001b[0;32m     75\u001b[0m             \u001b[1;32mtry\u001b[0m\u001b[1;33m:\u001b[0m\u001b[1;33m\u001b[0m\u001b[0m\n\u001b[0;32m     76\u001b[0m                 \u001b[1;32mwith\u001b[0m \u001b[0mnp\u001b[0m\u001b[1;33m.\u001b[0m\u001b[0merrstate\u001b[0m\u001b[1;33m(\u001b[0m\u001b[0minvalid\u001b[0m\u001b[1;33m=\u001b[0m\u001b[1;34m'ignore'\u001b[0m\u001b[1;33m)\u001b[0m\u001b[1;33m:\u001b[0m\u001b[1;33m\u001b[0m\u001b[0m\n\u001b[1;32m---> 77\u001b[1;33m                     \u001b[1;32mreturn\u001b[0m \u001b[0mf\u001b[0m\u001b[1;33m(\u001b[0m\u001b[1;33m*\u001b[0m\u001b[0margs\u001b[0m\u001b[1;33m,\u001b[0m \u001b[1;33m**\u001b[0m\u001b[0mkwargs\u001b[0m\u001b[1;33m)\u001b[0m\u001b[1;33m\u001b[0m\u001b[0m\n\u001b[0m\u001b[0;32m     78\u001b[0m             \u001b[1;32mexcept\u001b[0m \u001b[0mValueError\u001b[0m \u001b[1;32mas\u001b[0m \u001b[0me\u001b[0m\u001b[1;33m:\u001b[0m\u001b[1;33m\u001b[0m\u001b[0m\n\u001b[0;32m     79\u001b[0m                 \u001b[1;31m# we want to transform an object array\u001b[0m\u001b[1;33m\u001b[0m\u001b[1;33m\u001b[0m\u001b[0m\n",
      "\u001b[1;32m~\\AppData\\Local\\Continuum\\anaconda3\\lib\\site-packages\\pandas\\core\\nanops.py\u001b[0m in \u001b[0;36mf\u001b[1;34m(values, axis, skipna, **kwds)\u001b[0m\n\u001b[0;32m    129\u001b[0m             \u001b[1;32mexcept\u001b[0m \u001b[0mException\u001b[0m\u001b[1;33m:\u001b[0m\u001b[1;33m\u001b[0m\u001b[0m\n\u001b[0;32m    130\u001b[0m                 \u001b[1;32mtry\u001b[0m\u001b[1;33m:\u001b[0m\u001b[1;33m\u001b[0m\u001b[0m\n\u001b[1;32m--> 131\u001b[1;33m                     \u001b[0mresult\u001b[0m \u001b[1;33m=\u001b[0m \u001b[0malt\u001b[0m\u001b[1;33m(\u001b[0m\u001b[0mvalues\u001b[0m\u001b[1;33m,\u001b[0m \u001b[0maxis\u001b[0m\u001b[1;33m=\u001b[0m\u001b[0maxis\u001b[0m\u001b[1;33m,\u001b[0m \u001b[0mskipna\u001b[0m\u001b[1;33m=\u001b[0m\u001b[0mskipna\u001b[0m\u001b[1;33m,\u001b[0m \u001b[1;33m**\u001b[0m\u001b[0mkwds\u001b[0m\u001b[1;33m)\u001b[0m\u001b[1;33m\u001b[0m\u001b[0m\n\u001b[0m\u001b[0;32m    132\u001b[0m                 \u001b[1;32mexcept\u001b[0m \u001b[0mValueError\u001b[0m \u001b[1;32mas\u001b[0m \u001b[0me\u001b[0m\u001b[1;33m:\u001b[0m\u001b[1;33m\u001b[0m\u001b[0m\n\u001b[0;32m    133\u001b[0m                     \u001b[1;31m# we want to transform an object array\u001b[0m\u001b[1;33m\u001b[0m\u001b[1;33m\u001b[0m\u001b[0m\n",
      "\u001b[1;32m~\\AppData\\Local\\Continuum\\anaconda3\\lib\\site-packages\\pandas\\core\\nanops.py\u001b[0m in \u001b[0;36mnanmean\u001b[1;34m(values, axis, skipna)\u001b[0m\n\u001b[0;32m    353\u001b[0m         \u001b[0mdtype_count\u001b[0m \u001b[1;33m=\u001b[0m \u001b[0mdtype\u001b[0m\u001b[1;33m\u001b[0m\u001b[0m\n\u001b[0;32m    354\u001b[0m     \u001b[0mcount\u001b[0m \u001b[1;33m=\u001b[0m \u001b[0m_get_counts\u001b[0m\u001b[1;33m(\u001b[0m\u001b[0mmask\u001b[0m\u001b[1;33m,\u001b[0m \u001b[0maxis\u001b[0m\u001b[1;33m,\u001b[0m \u001b[0mdtype\u001b[0m\u001b[1;33m=\u001b[0m\u001b[0mdtype_count\u001b[0m\u001b[1;33m)\u001b[0m\u001b[1;33m\u001b[0m\u001b[0m\n\u001b[1;32m--> 355\u001b[1;33m     \u001b[0mthe_sum\u001b[0m \u001b[1;33m=\u001b[0m \u001b[0m_ensure_numeric\u001b[0m\u001b[1;33m(\u001b[0m\u001b[0mvalues\u001b[0m\u001b[1;33m.\u001b[0m\u001b[0msum\u001b[0m\u001b[1;33m(\u001b[0m\u001b[0maxis\u001b[0m\u001b[1;33m,\u001b[0m \u001b[0mdtype\u001b[0m\u001b[1;33m=\u001b[0m\u001b[0mdtype_sum\u001b[0m\u001b[1;33m)\u001b[0m\u001b[1;33m)\u001b[0m\u001b[1;33m\u001b[0m\u001b[0m\n\u001b[0m\u001b[0;32m    356\u001b[0m \u001b[1;33m\u001b[0m\u001b[0m\n\u001b[0;32m    357\u001b[0m     \u001b[1;32mif\u001b[0m \u001b[0maxis\u001b[0m \u001b[1;32mis\u001b[0m \u001b[1;32mnot\u001b[0m \u001b[1;32mNone\u001b[0m \u001b[1;32mand\u001b[0m \u001b[0mgetattr\u001b[0m\u001b[1;33m(\u001b[0m\u001b[0mthe_sum\u001b[0m\u001b[1;33m,\u001b[0m \u001b[1;34m'ndim'\u001b[0m\u001b[1;33m,\u001b[0m \u001b[1;32mFalse\u001b[0m\u001b[1;33m)\u001b[0m\u001b[1;33m:\u001b[0m\u001b[1;33m\u001b[0m\u001b[0m\n",
      "\u001b[1;32m~\\AppData\\Local\\Continuum\\anaconda3\\lib\\site-packages\\pandas\\core\\nanops.py\u001b[0m in \u001b[0;36m_ensure_numeric\u001b[1;34m(x)\u001b[0m\n\u001b[0;32m    826\u001b[0m             \u001b[1;32mexcept\u001b[0m \u001b[0mException\u001b[0m\u001b[1;33m:\u001b[0m\u001b[1;33m\u001b[0m\u001b[0m\n\u001b[0;32m    827\u001b[0m                 raise TypeError('Could not convert {value!s} to numeric'\n\u001b[1;32m--> 828\u001b[1;33m                                 .format(value=x))\n\u001b[0m\u001b[0;32m    829\u001b[0m     \u001b[1;32mreturn\u001b[0m \u001b[0mx\u001b[0m\u001b[1;33m\u001b[0m\u001b[0m\n\u001b[0;32m    830\u001b[0m \u001b[1;33m\u001b[0m\u001b[0m\n",
      "\u001b[1;31mTypeError\u001b[0m: Could not convert 878995849193821028588879380949383917488829083101867888827292949378869165808577988880867784908788877710476838181928684978981938685757810276881058883838797919388818976948088889076939688829590858587104818582668290918283997379818292847987848810792889197918891797975799686939287898976828787668986857986837580917877928486919679858982758981777888108959580999496847478869184838483698092977390788385799083949670768486901009076858976789289788779818110387938884856793878873738573908797829888878781839280908278879095948083948689668585937881791028382918888959488102928583988483751089588749599907792968883988291818786848790918110381808581691059681808191857690848781908084868599878682867593817687887582839595818884889890788875909290837887779180928899848277831099495857792897886908578929082929592838189718280738485768974917984888476868672838792877788938897958283849390908984969210278959691867779869094888388718286847510880748084929575847484748486749310579939189906779818994907589798596821028780839296788484809086848486877695957481898185858483867675818210990868285879276809282718610480929910495868780909080828792757380789882879286848583777776104851001008779103798979918180777884101788097747084778475908396808010788749496768385827776808598858575788577858691857776878988779182827683928482819089938076899985897687938284688791809087867580801019775818688969681839084788493918588869891848177898785821027979988087808079818289867910399818284978285751118483839386888586978996799194758092789710282867989100798691809386108808079808581988489949290969610969887499837793877788788175838986757481798581878787898189977974757579979086828569928784909190799078768396848384998387959984838684909789847774919582919488798893801069284889786948372849579946893104887884828682718683861148884828086817692818793808890839581105917676857295966980957490928381748085908794978894958392778194818483837871878085789277858080899080878970778579778392868183868582768091828094818892739381858477641048876838086789584828695949210290698184838472947576807490858986817778767010285888977917697838582698891958875828890978785698196788190105868083829610679781087986818968809581978883937491989380887989749388948186898787868878927783898277739890769511085809685919171958387101859685848492767183817983788282747872114103808487941108183778990718092858296789592848810392859686899082788985889688103818281928277838610082109909579848183848678887793839370898089906710088938183768280797989109857982728381819383817480948479751029490828096716888948688908293928479879184908410092788887949092878375788899778096999281711011028684809287809482898081839090891028684817685959190809686917997969975908095861018983968090709178808993938285789492958782968378987981778092687889928780889883828694899291988391918584926986797690808079899980779279809093898377818311588948190791067875957886847976757995937179898188988888838710280848281848293888491869686888597788180877683907981749483957984827999818595798872837680928369938876728385838689768292728288966994789087919387988481849791909986811018787987999898292768480868486849185768282809987668783818395877993787671797471688784938685938184869799947795837892100828578708182869993859484858382879293951049572928910178767884838795699786868591999490797673819710890909792927495887978948090788982908098818279113968691869287888495769072858710386781068297918377899810287908387928510585907989728982919783878589958987100102951028199908086939280728582801079893879268858610287829878757890859281908082928378838388958881838680968279658877798691698175748510110489919489748881877984849179738389878091868410389921039087828684948784859084788796828785828083839273751068896938986808076818595918893818687119788388758692868193917281918310383937582799282948878787384909390937678888583828488851008479809281937584879183918784779675869088828389838282939092848881958582878087899292819485909382868683839493848487887879908210280891038994888788961008774788083908392749682959183797195889892819087688686798582857586918978796979848788898582719884899784821028385927579828980879884838168927791818792838778829079948782861138790898886758185948683808583827980879087829110984104798187778087898285869790938677988483729288928680778679908388967983869684778087748595778390809487799579897981838983847791898088838178838283828181878785857187817481848682909787851019490776967968110385103699091838610087858888957685816877828173818485739194829188928585717992104888510576837984929088968672861031048298938681818481848687988791869180888485927575849595747796918185897473829292848267958490897682799093798875897989101968486889667748190808788818883818077819182811098786898293998184977790857985888788887781818487979091978781908089818590928779877579778287978084708387968083868588697385848885817487718285908979799879888390838287899275839290788681908369909292781048184100939892848570977882886877829087103761021039084908784788994103888790838890776778849178927785858381819980688688958589836878897980867876748186967981917982848381828473938287937486779875908484887678107859395886582968588857085878097988088881028210680858078888410036788487898879908993819081878990908284798710010191898894751028885967394938683879479907881879781987885948978787185948096807998808398937886898878867710173957780678985778180878482928289919278819381988888.28281968291948192779876718394868984979480949488959183868485779285847510597729010497878183808284878686828178818074101889177847510180798769831027992851028583769181807384858187987592848081837183858891788395759877858073918285759090868083878690817584968286848987738476848294908089788392827984767887858995789481887883879278929577828175858610084838376849296889786848288807277879790107831058593868967857996838886799782917087688582778971978065789279928588808775978897788086879678808476768583938888757373102110829380818389877685798284828686102668885838195917787848497859990977380101948681906391868290968887948589908884927768878175848684109909285827996968485789278928778898792938378825988788890107929682878393807290928785767899687772828184818479841089289918262938784809284868176837995106888882839190789288949081798089937993899083828081839978858384838192908888779170949288647990919695978499799085838795758098948399828296939786919492898479808583909083899484878281105879110098811027982898981828284738994878083879091738374818197821027881867880928381768390781007910179848488778367829177868085828485838878869177859379927485768292956991938698938591891089480828085828798818988788871978288969688919787811038975729399849661839481838590979188818484859210079827587927269929489898992898910778888386857881707883102967880929493908784818087848288718886777686927980917993868592887983889092879092898686838283868179879177878483818891878988681009191889580799788828076988894908996881137187739210582819583858788768878928085831138583987896758510188857691848996807810497978986907675829882778690977391788687897686808289858210380809079778974928292768479877996727480797870100103948681818690788180918877909083687083838079118918286103759084858392709987908681789283858381918395827376828883929072868086768481958673809279978692859393716686918687847886681058184778310687928681857084897783818360708680928394878686828696878295829377838396919180867782110798878959989868685847799978276809082868689638188998483918674758882898880668079778980821017686878980958580968381857190102949085878189898487907793829274839189748483808885101858188799285987886807490799089100957689102829491.5918593101104988181103967984837396878982928783101787683889294777986841028677928574969383848496948188839683779293928491103105757688889896798885887190748676807773969189877875937986788810183868279818888956983877085981029090927970818084848284859487837576818878848495759575817185868168769183869493817893847893837989928786928796918682798479788888908779868282829290858498818874999981687493868679868691988895729396758580768976828184828281938079102989483831039083858382848282789091728983959970788081828093100818184879087927783848295827991757381669198828881819792 to numeric"
     ]
    }
   ],
   "source": [
    "np.mean(all_info3.nihtbx_picvocab_uncorrected)"
   ]
  }
 ],
 "metadata": {
  "kernelspec": {
   "display_name": "Python 3",
   "language": "python",
   "name": "python3"
  },
  "language_info": {
   "codemirror_mode": {
    "name": "ipython",
    "version": 3
   },
   "file_extension": ".py",
   "mimetype": "text/x-python",
   "name": "python",
   "nbconvert_exporter": "python",
   "pygments_lexer": "ipython3",
   "version": "3.7.0"
  }
 },
 "nbformat": 4,
 "nbformat_minor": 2
}
